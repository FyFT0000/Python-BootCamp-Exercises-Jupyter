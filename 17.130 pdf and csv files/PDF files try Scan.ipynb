{
 "cells": [
  {
   "cell_type": "code",
   "execution_count": 1,
   "id": "857a4ec1",
   "metadata": {},
   "outputs": [],
   "source": [
    "import PyPDF2"
   ]
  },
  {
   "cell_type": "code",
   "execution_count": 2,
   "id": "0fbc54d1",
   "metadata": {},
   "outputs": [],
   "source": [
    "f = open('Scan1_Working_B.pdf','rb')"
   ]
  },
  {
   "cell_type": "code",
   "execution_count": 3,
   "id": "745a68c4",
   "metadata": {},
   "outputs": [],
   "source": [
    "pdf_reder = PyPDF2.PdfReader(f)"
   ]
  },
  {
   "cell_type": "code",
   "execution_count": 4,
   "id": "c38eb217",
   "metadata": {},
   "outputs": [
    {
     "data": {
      "text/plain": [
       "1"
      ]
     },
     "execution_count": 4,
     "metadata": {},
     "output_type": "execute_result"
    }
   ],
   "source": [
    "len(pdf_reder.pages)"
   ]
  },
  {
   "cell_type": "code",
   "execution_count": 5,
   "id": "a8548e99",
   "metadata": {},
   "outputs": [],
   "source": [
    "page_one = pdf_reder.pages[0]"
   ]
  },
  {
   "cell_type": "code",
   "execution_count": 6,
   "id": "1e351c91",
   "metadata": {},
   "outputs": [],
   "source": [
    "page_one_text = page_one.extract_text()"
   ]
  },
  {
   "cell_type": "code",
   "execution_count": 7,
   "id": "eb5e563c",
   "metadata": {},
   "outputs": [
    {
     "data": {
      "text/plain": [
       "' \\n'"
      ]
     },
     "execution_count": 7,
     "metadata": {},
     "output_type": "execute_result"
    }
   ],
   "source": [
    "page_one_text"
   ]
  },
  {
   "cell_type": "code",
   "execution_count": null,
   "id": "537e6c51",
   "metadata": {},
   "outputs": [],
   "source": []
  }
 ],
 "metadata": {
  "kernelspec": {
   "display_name": "Python 3 (ipykernel)",
   "language": "python",
   "name": "python3"
  },
  "language_info": {
   "codemirror_mode": {
    "name": "ipython",
    "version": 3
   },
   "file_extension": ".py",
   "mimetype": "text/x-python",
   "name": "python",
   "nbconvert_exporter": "python",
   "pygments_lexer": "ipython3",
   "version": "3.9.7"
  }
 },
 "nbformat": 4,
 "nbformat_minor": 5
}
