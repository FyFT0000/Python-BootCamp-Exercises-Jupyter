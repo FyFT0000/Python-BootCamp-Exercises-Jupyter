{
 "cells": [
  {
   "cell_type": "code",
   "execution_count": 1,
   "id": "9ffd6649",
   "metadata": {},
   "outputs": [],
   "source": [
    "# SPY GAME: Write a function that takes in a list of integers and returns True if it contains 007 in order"
   ]
  },
  {
   "cell_type": "code",
   "execution_count": 21,
   "id": "843bf85d",
   "metadata": {},
   "outputs": [],
   "source": [
    "def spy_game(num_list):\n",
    "    aux_list = [0,0,0]\n",
    "    for n in num_list:\n",
    "        aux_list.pop(0)\n",
    "        aux_list.append(n)\n",
    "        if aux_list[0] == 0 and aux_list[1] == 0 and aux_list[2] == 7:\n",
    "            return True\n",
    " # print (aux_list)\n",
    "    return False"
   ]
  },
  {
   "cell_type": "code",
   "execution_count": 25,
   "id": "2887f3e1",
   "metadata": {},
   "outputs": [
    {
     "data": {
      "text/plain": [
       "True"
      ]
     },
     "execution_count": 25,
     "metadata": {},
     "output_type": "execute_result"
    }
   ],
   "source": [
    "spy_game([1,2,4,0,0,7,5])"
   ]
  },
  {
   "cell_type": "code",
   "execution_count": 26,
   "id": "41e139fe",
   "metadata": {},
   "outputs": [],
   "source": [
    "# COUNT PRIMES: Write a function that returns the number of prime numbers that exist up to and including a given number"
   ]
  },
  {
   "cell_type": "code",
   "execution_count": 64,
   "id": "84976394",
   "metadata": {},
   "outputs": [],
   "source": [
    "def count_primes(number):\n",
    "    i = 0\n",
    "    j = 1\n",
    "    prim_count = 0\n",
    "    aux = 0\n",
    "    while i <= number:\n",
    "#        print(i, '---')\n",
    "        while j <= i:\n",
    "#            print(j)\n",
    "            if i%j == 0:\n",
    "                aux += 1\n",
    "            j += 1\n",
    "        if aux <= 2 and i > 1:\n",
    "#            print (i)\n",
    "            prim_count += 1\n",
    "        aux = 0\n",
    "        j = 1\n",
    "        i += 1\n",
    "    return prim_count"
   ]
  },
  {
   "cell_type": "code",
   "execution_count": 69,
   "id": "25384ec1",
   "metadata": {},
   "outputs": [
    {
     "data": {
      "text/plain": [
       "25"
      ]
     },
     "execution_count": 69,
     "metadata": {},
     "output_type": "execute_result"
    }
   ],
   "source": [
    "count_primes(100)"
   ]
  },
  {
   "cell_type": "code",
   "execution_count": null,
   "id": "23251953",
   "metadata": {},
   "outputs": [],
   "source": [
    "# PRINT BIG: Write a function that takes in a single letter, and returns a 5x5 representation of that letter"
   ]
  },
  {
   "cell_type": "code",
   "execution_count": 99,
   "id": "d0a4b61a",
   "metadata": {},
   "outputs": [],
   "source": [
    "def print_big(letter):\n",
    "    dict_abcd = {}\n",
    "    dict_abcd['a'] ='''\n",
    "      *\n",
    "     * *\n",
    "    *****  \n",
    "    *   *\n",
    "    *   *'''\n",
    "    dict_abcd['b'] = '''\n",
    "    ****\n",
    "    *   *\n",
    "    *****\n",
    "    *   *\n",
    "    **** '''\n",
    "    dict_abcd['c'] = '''\n",
    "     ****\n",
    "    *\n",
    "    *\n",
    "    *\n",
    "     ****'''\n",
    "    dict_abcd['d'] = '''\n",
    "    **** \n",
    "    *   *\n",
    "    *   *\n",
    "    *   *\n",
    "    **** '''\n",
    "    dict_abcd['e'] = '''\n",
    "    *****\n",
    "    *\n",
    "    *****\n",
    "    *\n",
    "    *****\n",
    "    '''\n",
    "    # print(dict_abcd)\n",
    "    return print(dict_abcd[letter])\n",
    "    "
   ]
  },
  {
   "cell_type": "code",
   "execution_count": 105,
   "id": "28b75434",
   "metadata": {},
   "outputs": [
    {
     "name": "stdout",
     "output_type": "stream",
     "text": [
      "\n",
      "    *****\n",
      "    *\n",
      "    *****\n",
      "    *\n",
      "    *****\n",
      "    \n"
     ]
    }
   ],
   "source": [
    "print_big('e')"
   ]
  },
  {
   "cell_type": "code",
   "execution_count": 114,
   "id": "2a1a2e13",
   "metadata": {},
   "outputs": [],
   "source": [
    "def print_big2(letter):\n",
    "    paterns = {1:'  *  ',2:' * * ',3:'*****',4:'*   *',\n",
    "              5:'**** ',6:'*   *'}\n",
    "    \n",
    "    alphabet = {'A':[1,2,3,4,4],'B':[5,6,3,6,5]}\n",
    "    \n",
    "    for p in alphabet[letter.upper()]:\n",
    "        print (paterns[p])\n",
    "        "
   ]
  },
  {
   "cell_type": "code",
   "execution_count": 115,
   "id": "6dac30b7",
   "metadata": {},
   "outputs": [
    {
     "name": "stdout",
     "output_type": "stream",
     "text": [
      "**** \n",
      "*   *\n",
      "*****\n",
      "*   *\n",
      "**** \n"
     ]
    }
   ],
   "source": [
    "print_big2('b')"
   ]
  },
  {
   "cell_type": "code",
   "execution_count": null,
   "id": "c83d6ee7",
   "metadata": {},
   "outputs": [],
   "source": []
  }
 ],
 "metadata": {
  "kernelspec": {
   "display_name": "Python 3 (ipykernel)",
   "language": "python",
   "name": "python3"
  },
  "language_info": {
   "codemirror_mode": {
    "name": "ipython",
    "version": 3
   },
   "file_extension": ".py",
   "mimetype": "text/x-python",
   "name": "python",
   "nbconvert_exporter": "python",
   "pygments_lexer": "ipython3",
   "version": "3.9.7"
  }
 },
 "nbformat": 4,
 "nbformat_minor": 5
}
