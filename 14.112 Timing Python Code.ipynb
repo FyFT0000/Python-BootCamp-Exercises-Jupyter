{
 "cells": [
  {
   "cell_type": "code",
   "execution_count": 1,
   "id": "e66379f8",
   "metadata": {},
   "outputs": [],
   "source": [
    "def func_one(n):\n",
    "    return [str(num) for num in range(n)]"
   ]
  },
  {
   "cell_type": "code",
   "execution_count": 2,
   "id": "4eb6572f",
   "metadata": {},
   "outputs": [
    {
     "data": {
      "text/plain": [
       "['0', '1', '2', '3', '4', '5', '6', '7', '8', '9']"
      ]
     },
     "execution_count": 2,
     "metadata": {},
     "output_type": "execute_result"
    }
   ],
   "source": [
    "func_one(10)"
   ]
  },
  {
   "cell_type": "code",
   "execution_count": 3,
   "id": "1f6dc9de",
   "metadata": {},
   "outputs": [],
   "source": [
    "def func_two(n):\n",
    "    return list(map(str,range(n)))"
   ]
  },
  {
   "cell_type": "code",
   "execution_count": 5,
   "id": "fc88fce7",
   "metadata": {},
   "outputs": [
    {
     "data": {
      "text/plain": [
       "['0', '1', '2', '3', '4', '5', '6', '7', '8', '9']"
      ]
     },
     "execution_count": 5,
     "metadata": {},
     "output_type": "execute_result"
    }
   ],
   "source": [
    "func_two(10)"
   ]
  },
  {
   "cell_type": "code",
   "execution_count": 6,
   "id": "06a5e5f1",
   "metadata": {},
   "outputs": [],
   "source": [
    "import time"
   ]
  },
  {
   "cell_type": "code",
   "execution_count": 45,
   "id": "b5c96b04",
   "metadata": {},
   "outputs": [
    {
     "name": "stdout",
     "output_type": "stream",
     "text": [
      "0.270857572555542\n"
     ]
    }
   ],
   "source": [
    "start_time = time.time()\n",
    "result = func_one(1000000)\n",
    "end_time = time.time()\n",
    "elapse_time = end_time - start_time\n",
    "print(elapse_time)"
   ]
  },
  {
   "cell_type": "code",
   "execution_count": 46,
   "id": "d06ce262",
   "metadata": {},
   "outputs": [
    {
     "name": "stdout",
     "output_type": "stream",
     "text": [
      "0.22699952125549316\n"
     ]
    }
   ],
   "source": [
    "start_time = time.time()\n",
    "result = func_two(1000000)\n",
    "end_time = time.time()\n",
    "elapse_time = end_time - start_time\n",
    "print(elapse_time)"
   ]
  },
  {
   "cell_type": "code",
   "execution_count": 47,
   "id": "4485de88",
   "metadata": {},
   "outputs": [
    {
     "name": "stdout",
     "output_type": "stream",
     "text": [
      "28.94427490234375\n",
      "0.2894427490234375\n"
     ]
    }
   ],
   "source": [
    "turns = 100\n",
    "start_time = time.time()\n",
    "for n in range(turns):\n",
    "    result = func_one(1000000)\n",
    "end_time = time.time()\n",
    "elapse_time = (end_time - start_time)\n",
    "print(elapse_time)\n",
    "print(elapse_time/turns)"
   ]
  },
  {
   "cell_type": "code",
   "execution_count": 48,
   "id": "71a6145c",
   "metadata": {},
   "outputs": [
    {
     "name": "stdout",
     "output_type": "stream",
     "text": [
      "21.690568447113037\n",
      "0.21690568447113037\n"
     ]
    }
   ],
   "source": [
    "turns = 100\n",
    "start_time = time.time()\n",
    "for n in range(turns):\n",
    "    result = func_two(1000000)\n",
    "end_time = time.time()\n",
    "elapse_time = (end_time - start_time)\n",
    "print(elapse_time)\n",
    "print(elapse_time/turns)"
   ]
  },
  {
   "cell_type": "code",
   "execution_count": 49,
   "id": "dfe4cba5",
   "metadata": {},
   "outputs": [],
   "source": [
    "import timeit"
   ]
  },
  {
   "cell_type": "code",
   "execution_count": null,
   "id": "565c283c",
   "metadata": {},
   "outputs": [],
   "source": [
    "timeit.timeit"
   ]
  },
  {
   "cell_type": "code",
   "execution_count": 69,
   "id": "06046080",
   "metadata": {},
   "outputs": [],
   "source": [
    "stmt_one = '''\n",
    "func_one(100)\n",
    "'''\n",
    "setup_one = '''\n",
    "def func_one(n):\n",
    "    return [str(num) for num in range(n)]\n",
    "'''"
   ]
  },
  {
   "cell_type": "code",
   "execution_count": 78,
   "id": "4fd49670",
   "metadata": {},
   "outputs": [],
   "source": [
    "stmt_two = '''\n",
    "func_one(100)\n",
    "'''\n",
    "setup_two = '''\n",
    "def func_one(n):\n",
    "    return [str(num) for num in range(n)]\n",
    "'''"
   ]
  },
  {
   "cell_type": "code",
   "execution_count": 79,
   "id": "231439bc",
   "metadata": {},
   "outputs": [
    {
     "data": {
      "text/plain": [
       "2.244307300003129"
      ]
     },
     "execution_count": 79,
     "metadata": {},
     "output_type": "execute_result"
    }
   ],
   "source": [
    "timeit.timeit(stmt_one,setup_one,number=100000)"
   ]
  },
  {
   "cell_type": "code",
   "execution_count": 80,
   "id": "879acaf5",
   "metadata": {},
   "outputs": [
    {
     "data": {
      "text/plain": [
       "2.2863390000020445"
      ]
     },
     "execution_count": 80,
     "metadata": {},
     "output_type": "execute_result"
    }
   ],
   "source": [
    "timeit.timeit(stmt_two,setup_two,number=100000)"
   ]
  },
  {
   "cell_type": "code",
   "execution_count": 81,
   "id": "b42b44b7",
   "metadata": {},
   "outputs": [
    {
     "name": "stdout",
     "output_type": "stream",
     "text": [
      "22.3 µs ± 1.09 µs per loop (mean ± std. dev. of 7 runs, 10000 loops each)\n"
     ]
    }
   ],
   "source": [
    "%%timeit\n",
    "func_one(100)"
   ]
  },
  {
   "cell_type": "code",
   "execution_count": 82,
   "id": "eb00c8c8",
   "metadata": {},
   "outputs": [
    {
     "name": "stdout",
     "output_type": "stream",
     "text": [
      "17.4 µs ± 204 ns per loop (mean ± std. dev. of 7 runs, 100000 loops each)\n"
     ]
    }
   ],
   "source": [
    "%%timeit\n",
    "func_two(100)"
   ]
  },
  {
   "cell_type": "code",
   "execution_count": null,
   "id": "8e0fd76c",
   "metadata": {},
   "outputs": [],
   "source": []
  }
 ],
 "metadata": {
  "kernelspec": {
   "display_name": "Python 3 (ipykernel)",
   "language": "python",
   "name": "python3"
  },
  "language_info": {
   "codemirror_mode": {
    "name": "ipython",
    "version": 3
   },
   "file_extension": ".py",
   "mimetype": "text/x-python",
   "name": "python",
   "nbconvert_exporter": "python",
   "pygments_lexer": "ipython3",
   "version": "3.9.7"
  }
 },
 "nbformat": 4,
 "nbformat_minor": 5
}
