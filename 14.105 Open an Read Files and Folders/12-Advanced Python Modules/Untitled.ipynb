{
 "cells": [
  {
   "cell_type": "code",
   "execution_count": 1,
   "id": "23c8fec9",
   "metadata": {},
   "outputs": [
    {
     "data": {
      "text/plain": [
       "'C:\\\\Users\\\\FacundoFT\\\\Python Udemy\\\\Bootcamp\\\\Jupyter Notebook\\\\14.105 Open an Read Files and Folders\\\\12-Advanced Python Modules'"
      ]
     },
     "execution_count": 1,
     "metadata": {},
     "output_type": "execute_result"
    }
   ],
   "source": [
    "pwd"
   ]
  },
  {
   "cell_type": "code",
   "execution_count": 2,
   "id": "7de5d610",
   "metadata": {},
   "outputs": [],
   "source": [
    "f = open('practice.txt','w+')\n",
    "f.write('This is a test string')\n",
    "f.close()"
   ]
  },
  {
   "cell_type": "code",
   "execution_count": 3,
   "id": "420f5e7e",
   "metadata": {},
   "outputs": [],
   "source": [
    "import os"
   ]
  },
  {
   "cell_type": "code",
   "execution_count": 4,
   "id": "ff811adc",
   "metadata": {},
   "outputs": [
    {
     "data": {
      "text/plain": [
       "'C:\\\\Users\\\\FacundoFT\\\\Python Udemy\\\\Bootcamp\\\\Jupyter Notebook\\\\14.105 Open an Read Files and Folders\\\\12-Advanced Python Modules'"
      ]
     },
     "execution_count": 4,
     "metadata": {},
     "output_type": "execute_result"
    }
   ],
   "source": [
    "os.getcwd()"
   ]
  },
  {
   "cell_type": "code",
   "execution_count": 5,
   "id": "cd6907c6",
   "metadata": {},
   "outputs": [
    {
     "data": {
      "text/plain": [
       "['.ipynb_checkpoints',\n",
       " '08-Advanced-Python-Module-Exercise',\n",
       " 'Example_Top_Level',\n",
       " 'practice.txt',\n",
       " 'Untitled.ipynb',\n",
       " 'vsc_practice.py',\n",
       " 'vsc_practice.txt']"
      ]
     },
     "execution_count": 5,
     "metadata": {},
     "output_type": "execute_result"
    }
   ],
   "source": [
    "os.listdir()"
   ]
  },
  {
   "cell_type": "code",
   "execution_count": 9,
   "id": "fa2426cc",
   "metadata": {},
   "outputs": [
    {
     "data": {
      "text/plain": [
       "['All Users', 'Default', 'Default User', 'desktop.ini', 'FacundoFT', 'Public']"
      ]
     },
     "execution_count": 9,
     "metadata": {},
     "output_type": "execute_result"
    }
   ],
   "source": [
    "os.listdir('C:\\\\Users')"
   ]
  },
  {
   "cell_type": "code",
   "execution_count": 10,
   "id": "b761d2ed",
   "metadata": {},
   "outputs": [],
   "source": [
    "import shutil"
   ]
  },
  {
   "cell_type": "code",
   "execution_count": 12,
   "id": "5586a119",
   "metadata": {},
   "outputs": [
    {
     "data": {
      "text/plain": [
       "'C:\\\\Users\\\\FacundoFT\\\\practice.txt'"
      ]
     },
     "execution_count": 12,
     "metadata": {},
     "output_type": "execute_result"
    }
   ],
   "source": [
    "shutil.move('practice.txt','C:\\\\Users\\\\FacundoFT')"
   ]
  },
  {
   "cell_type": "code",
   "execution_count": null,
   "id": "f7276744",
   "metadata": {},
   "outputs": [],
   "source": []
  },
  {
   "cell_type": "code",
   "execution_count": 14,
   "id": "1a49ef7d",
   "metadata": {},
   "outputs": [],
   "source": [
    "import send2trash"
   ]
  },
  {
   "cell_type": "code",
   "execution_count": 15,
   "id": "4f4c3db0",
   "metadata": {},
   "outputs": [
    {
     "data": {
      "text/plain": [
       "['.ipynb_checkpoints',\n",
       " '08-Advanced-Python-Module-Exercise',\n",
       " 'Example_Top_Level',\n",
       " 'Untitled.ipynb',\n",
       " 'vsc_practice.py',\n",
       " 'vsc_practice.txt']"
      ]
     },
     "execution_count": 15,
     "metadata": {},
     "output_type": "execute_result"
    }
   ],
   "source": [
    "os.listdir()"
   ]
  },
  {
   "cell_type": "code",
   "execution_count": 19,
   "id": "2b64f828",
   "metadata": {},
   "outputs": [
    {
     "data": {
      "text/plain": [
       "'C:\\\\Users\\\\FacundoFT\\\\Python Udemy\\\\Bootcamp\\\\Jupyter Notebook\\\\14.105 Open an Read Files and Folders\\\\12-Advanced Python Modules\\\\practice.txt'"
      ]
     },
     "execution_count": 19,
     "metadata": {},
     "output_type": "execute_result"
    }
   ],
   "source": [
    "shutil.move('C:\\\\Users\\\\FacundoFT\\\\practice.txt',os.getcwd())"
   ]
  },
  {
   "cell_type": "code",
   "execution_count": 20,
   "id": "56df1cac",
   "metadata": {},
   "outputs": [
    {
     "data": {
      "text/plain": [
       "['.ipynb_checkpoints',\n",
       " '08-Advanced-Python-Module-Exercise',\n",
       " 'Example_Top_Level',\n",
       " 'practice.txt',\n",
       " 'Untitled.ipynb',\n",
       " 'vsc_practice.py',\n",
       " 'vsc_practice.txt']"
      ]
     },
     "execution_count": 20,
     "metadata": {},
     "output_type": "execute_result"
    }
   ],
   "source": [
    "os.listdir()"
   ]
  },
  {
   "cell_type": "code",
   "execution_count": 21,
   "id": "7a4a28e7",
   "metadata": {},
   "outputs": [],
   "source": [
    "send2trash.send2trash('practice.txt')"
   ]
  },
  {
   "cell_type": "code",
   "execution_count": 22,
   "id": "3aa2cb42",
   "metadata": {},
   "outputs": [
    {
     "data": {
      "text/plain": [
       "['.ipynb_checkpoints',\n",
       " '08-Advanced-Python-Module-Exercise',\n",
       " 'Example_Top_Level',\n",
       " 'Untitled.ipynb',\n",
       " 'vsc_practice.py',\n",
       " 'vsc_practice.txt']"
      ]
     },
     "execution_count": 22,
     "metadata": {},
     "output_type": "execute_result"
    }
   ],
   "source": [
    "os.listdir()"
   ]
  },
  {
   "cell_type": "code",
   "execution_count": 88,
   "id": "00e09831",
   "metadata": {},
   "outputs": [],
   "source": [
    "walk = (os.walk(os.getcwd()+'\\\\Example_Top_Level'))"
   ]
  },
  {
   "cell_type": "code",
   "execution_count": 89,
   "id": "7197ca0b",
   "metadata": {},
   "outputs": [
    {
     "name": "stdout",
     "output_type": "stream",
     "text": [
      ">>Currently lloking at: C:\\Users\\FacundoFT\\Python Udemy\\Bootcamp\\Jupyter Notebook\\14.105 Open an Read Files and Folders\\12-Advanced Python Modules\\Example_Top_Level\n",
      ">>The sub folders are:\n",
      ">>  Mid-Example-One\n",
      ">>The files are:\n",
      ">>  Mid-Example.txt\n",
      "\n",
      ">>>>Currently lloking at: C:\\Users\\FacundoFT\\Python Udemy\\Bootcamp\\Jupyter Notebook\\14.105 Open an Read Files and Folders\\12-Advanced Python Modules\\Example_Top_Level\\Mid-Example-One\n",
      ">>>>The sub folders are:\n",
      ">>>>  Bottom-Level-One\n",
      ">>>>  Bottom-Level-Two\n",
      ">>>>The files are:\n",
      ">>>>  Mid-Level-Doc.txt\n",
      "\n",
      ">>>>>>Currently lloking at: C:\\Users\\FacundoFT\\Python Udemy\\Bootcamp\\Jupyter Notebook\\14.105 Open an Read Files and Folders\\12-Advanced Python Modules\\Example_Top_Level\\Mid-Example-One\\Bottom-Level-One\n",
      ">>>>>>The sub folders are:\n",
      ">>>>>>The files are:\n",
      ">>>>>>  One_Text.txt\n",
      "\n",
      ">>>>>>>>Currently lloking at: C:\\Users\\FacundoFT\\Python Udemy\\Bootcamp\\Jupyter Notebook\\14.105 Open an Read Files and Folders\\12-Advanced Python Modules\\Example_Top_Level\\Mid-Example-One\\Bottom-Level-Two\n",
      ">>>>>>>>The sub folders are:\n",
      ">>>>>>>>The files are:\n",
      ">>>>>>>>  Bottom-Text-Two.txt\n",
      "\n"
     ]
    }
   ],
   "source": [
    "t = '>>'\n",
    "t1 = '  '\n",
    "for folder,sub_folder,files in walk:\n",
    "    \n",
    "    print(f'{t}Currently lloking at: {folder}')\n",
    "    print(f'{t}The sub folders are:')\n",
    "    for sub_fold in sub_folder:\n",
    "        print(f'{t}{t1}{sub_fold}')\n",
    "    print(f'{t}The files are:')\n",
    "    for f in files:\n",
    "        print(f'{t}{t1}{f}')\n",
    "    print('')\n",
    "    t += '>>'"
   ]
  },
  {
   "cell_type": "code",
   "execution_count": 79,
   "id": "a1a5c56e",
   "metadata": {},
   "outputs": [
    {
     "name": "stdout",
     "output_type": "stream",
     "text": [
      "\n",
      "\t\tBottom-Level-One\n",
      "\t\tBottom-Level-Two\n",
      "\n",
      "\t\t\tOne_Text.txt\n",
      "\n",
      "\t\t\t\tBottom-Text-Two.txt\n",
      "\n"
     ]
    }
   ],
   "source": [
    "t = ''\n",
    "walk = (os.walk(os.getcwd()+'\\\\Example_Top_Level'))\n",
    "\n",
    "for folder,sub_folder,files in walk:\n",
    "    \n",
    "    for sub_fold in sub_folder:\n",
    "        if 'eve' in sub_fold:\n",
    "            print(f'{t}\\t{sub_fold}')\n",
    "    for f in files:\n",
    "        if 'ext' in f:\n",
    "            print(f'{t}\\t{f}')\n",
    "    print('')\n",
    "    t += '\\t'"
   ]
  },
  {
   "cell_type": "code",
   "execution_count": null,
   "id": "c09f1cd6",
   "metadata": {},
   "outputs": [],
   "source": []
  },
  {
   "cell_type": "code",
   "execution_count": null,
   "id": "dd1bc7d2",
   "metadata": {},
   "outputs": [],
   "source": []
  },
  {
   "cell_type": "code",
   "execution_count": null,
   "id": "16959f25",
   "metadata": {},
   "outputs": [],
   "source": []
  },
  {
   "cell_type": "code",
   "execution_count": null,
   "id": "11afac47",
   "metadata": {},
   "outputs": [],
   "source": []
  },
  {
   "cell_type": "code",
   "execution_count": null,
   "id": "bb0819b2",
   "metadata": {},
   "outputs": [],
   "source": []
  },
  {
   "cell_type": "code",
   "execution_count": null,
   "id": "093a3b59",
   "metadata": {},
   "outputs": [],
   "source": []
  },
  {
   "cell_type": "code",
   "execution_count": null,
   "id": "f00cb1fd",
   "metadata": {},
   "outputs": [],
   "source": []
  },
  {
   "cell_type": "code",
   "execution_count": null,
   "id": "7fc3507a",
   "metadata": {},
   "outputs": [],
   "source": []
  },
  {
   "cell_type": "code",
   "execution_count": null,
   "id": "d6af9f2a",
   "metadata": {},
   "outputs": [],
   "source": []
  },
  {
   "cell_type": "code",
   "execution_count": null,
   "id": "75da21ee",
   "metadata": {},
   "outputs": [],
   "source": []
  }
 ],
 "metadata": {
  "kernelspec": {
   "display_name": "Python 3 (ipykernel)",
   "language": "python",
   "name": "python3"
  },
  "language_info": {
   "codemirror_mode": {
    "name": "ipython",
    "version": 3
   },
   "file_extension": ".py",
   "mimetype": "text/x-python",
   "name": "python",
   "nbconvert_exporter": "python",
   "pygments_lexer": "ipython3",
   "version": "3.9.7"
  }
 },
 "nbformat": 4,
 "nbformat_minor": 5
}
