{
 "cells": [
  {
   "cell_type": "code",
   "execution_count": 1,
   "id": "4ded7169",
   "metadata": {},
   "outputs": [],
   "source": [
    "from IPython.display import clear_output\n",
    "\n",
    "row1 = [' ',' ',' ']\n",
    "row2 = [' ',' ',' ']\n",
    "row3 = [' ',' ',' ']"
   ]
  },
  {
   "cell_type": "code",
   "execution_count": 2,
   "id": "9c499baf",
   "metadata": {},
   "outputs": [],
   "source": [
    "def clear_board(*args):\n",
    "    for n in args:\n",
    "#        print(n)\n",
    "        i = 0\n",
    "        while i < len(n):\n",
    "#            print(i)\n",
    "            n[i] = ' '\n",
    "            i += 1\n",
    "# If I try to do row1 = [' ','O',' '] it is going to\n",
    "# work only INSIDE the function but no outside, since\n",
    "# Arguments are passed by assignment the parameter\n",
    "# passed in is actually a reference to an object \n",
    "# (but the reference is passed by value)"
   ]
  },
  {
   "cell_type": "code",
   "execution_count": null,
   "id": "29fa46d3",
   "metadata": {},
   "outputs": [],
   "source": [
    "clear_board(row1,row2,row3)"
   ]
  },
  {
   "cell_type": "code",
   "execution_count": 3,
   "id": "c17239d8",
   "metadata": {},
   "outputs": [],
   "source": [
    "def print_board(row1,row2,row3):\n",
    "    print(f' {row1[0]} | {row1[1]} | {row1[2]} ')\n",
    "    print('-----------')\n",
    "    print(f' {row2[0]} | {row2[1]} | {row2[2]} ')\n",
    "    print('-----------')\n",
    "    print(f' {row3[0]} | {row3[1]} | {row3[2]} ')"
   ]
  },
  {
   "cell_type": "code",
   "execution_count": null,
   "id": "17a5100a",
   "metadata": {},
   "outputs": [],
   "source": [
    "print_board(row1,row2,row3)"
   ]
  },
  {
   "cell_type": "code",
   "execution_count": 4,
   "id": "57e6539a",
   "metadata": {},
   "outputs": [],
   "source": [
    "def reference_board():\n",
    "    print_board([7,8,9],[4,5,6],[1,2,3])"
   ]
  },
  {
   "cell_type": "code",
   "execution_count": null,
   "id": "d8b24c58",
   "metadata": {},
   "outputs": [],
   "source": [
    "reference_board()"
   ]
  },
  {
   "cell_type": "code",
   "execution_count": 5,
   "id": "17ff6d34",
   "metadata": {},
   "outputs": [],
   "source": [
    "def input_player():\n",
    "    while True:\n",
    "        player1 = input('Player 1, please to start choose if yo want X or O: ').upper()\n",
    "        if player1 in ['X','O']:\n",
    "            break\n",
    "        else:\n",
    "            clear_output()\n",
    "            print('Wrong answer, please enter X or O next time.')\n",
    "    return player1"
   ]
  },
  {
   "cell_type": "code",
   "execution_count": null,
   "id": "038e3e08",
   "metadata": {},
   "outputs": [],
   "source": [
    "input_player()"
   ]
  },
  {
   "cell_type": "code",
   "execution_count": 6,
   "id": "a93ea352",
   "metadata": {},
   "outputs": [],
   "source": [
    "def map_position(position,row1,row2,row3):\n",
    "    board_value = {1:row3[0],2:row3[1],3:row3[2],\n",
    "                      4:row2[0],5:row2[1],6:row2[2],\n",
    "                      7:row1[0],8:row1[1],9:row1[2],}\n",
    "    return board_value[position]"
   ]
  },
  {
   "cell_type": "code",
   "execution_count": null,
   "id": "fcadfb6d",
   "metadata": {},
   "outputs": [],
   "source": [
    "map_position(8,row1,row2,row3)"
   ]
  },
  {
   "cell_type": "code",
   "execution_count": 7,
   "id": "8bbc65d8",
   "metadata": {},
   "outputs": [],
   "source": [
    "def mod_position(position,row1,row2,row3,new_value):\n",
    "    board_position = {1:[3,0],2:[3,1],3:[3,2],\n",
    "                      4:[2,0],5:[2,1],6:[2,2],\n",
    "                      7:[1,0],8:[1,1],9:[1,2]}\n",
    "    select_row = 'row'+str(board_position[position][0])\n",
    "    select_position = board_position[position][1]\n",
    "    locals()[select_row][select_position] = new_value"
   ]
  },
  {
   "cell_type": "code",
   "execution_count": null,
   "id": "4c2474d2",
   "metadata": {},
   "outputs": [],
   "source": [
    "mod_position(7,row1,row2,row3,'O')\n",
    "print_board(row1,row2,row3)"
   ]
  },
  {
   "cell_type": "code",
   "execution_count": 60,
   "id": "789acb1e",
   "metadata": {},
   "outputs": [],
   "source": [
    "def input_position(player,row1,row2,row3):\n",
    "    flag1 = False\n",
    "    while flag1 == False:\n",
    "        print_board(row1,row2,row3)\n",
    "        position = input(f'Player {player} please enter the desired position (1-9): ')\n",
    "        clear_output()\n",
    "        if position.isdigit() == True:\n",
    "            position = int(position)\n",
    "            if position in range(1,10):\n",
    "                if map_position(position,row1,row2,row3) == ' ':\n",
    "                    flag1 = True\n",
    "                else:\n",
    "                    print('Wrong, the position already have been chossen')\n",
    "            else:\n",
    "                print('Wrong, enter a number in the range 1 to 9')\n",
    "        else:\n",
    "            print('Wrong, enter a valid number (Integer)')\n",
    "    return int(position)"
   ]
  },
  {
   "cell_type": "code",
   "execution_count": null,
   "id": "cf27bbf0",
   "metadata": {},
   "outputs": [],
   "source": [
    "input_position('Player1',row1,row2,row3)"
   ]
  },
  {
   "cell_type": "code",
   "execution_count": null,
   "id": "6020bc57",
   "metadata": {},
   "outputs": [],
   "source": [
    "def check_game(row1,row2,row3):\n",
    "    board_value = {1:row3[0],2:row3[1],3:row3[2],\n",
    "                      4:row2[0],5:row2[1],6:row2[2],\n",
    "                      7:row1[0],8:row1[1],9:row1[2],}\n",
    "    board_win = [[1,2,3],[4,5,6],[7,8,9],\n",
    "                 [7,4,1],[8,5,2],[9,6,3],\n",
    "                 [7,5,3],[1,5,9]]\n",
    "    print_board(row1,row2,row3)\n",
    "    for n in board_win:\n",
    "        list1 = list(map(lambda n:board_value[n],n))\n",
    "        if list1 == ['X', 'X', 'X']:\n",
    "            clear_output()\n",
    "            print_board(row1,row2,row3)\n",
    "            print('Player X Wins!!!')\n",
    "            return True\n",
    "        elif list1 == ['O', 'O', 'O']:\n",
    "            clear_output()\n",
    "            print_board(row1,row2,row3)\n",
    "            print('Player O Wins!!!')\n",
    "            return True\n",
    "        else:\n",
    "            pass\n",
    "#        print(list1)\n",
    "    return False"
   ]
  },
  {
   "cell_type": "code",
   "execution_count": null,
   "id": "1cbf3028",
   "metadata": {
    "scrolled": true
   },
   "outputs": [],
   "source": [
    "check_game(row1,row2,row3)"
   ]
  },
  {
   "cell_type": "code",
   "execution_count": 10,
   "id": "205586e1",
   "metadata": {},
   "outputs": [],
   "source": [
    "def continue_game():\n",
    "    while True:\n",
    "        continue_game = input('Do you want to continue de Game, Y or N: ').upper()\n",
    "        if continue_game in ['Y','N']:\n",
    "            break\n",
    "        else:\n",
    "            clear_output()\n",
    "            print('Wrong answer, please enter Y or N next time.')\n",
    "    return continue_game == 'Y'"
   ]
  },
  {
   "cell_type": "code",
   "execution_count": null,
   "id": "e7e0d795",
   "metadata": {},
   "outputs": [],
   "source": [
    "continue_game()"
   ]
  },
  {
   "cell_type": "code",
   "execution_count": 11,
   "id": "132a14fb",
   "metadata": {},
   "outputs": [],
   "source": [
    "def player_control(player):\n",
    "        mod_position(input_position(player,row1,row2,row3),row1,row2,row3,player)        "
   ]
  },
  {
   "cell_type": "code",
   "execution_count": null,
   "id": "8d9cf918",
   "metadata": {},
   "outputs": [],
   "source": []
  },
  {
   "cell_type": "code",
   "execution_count": 69,
   "id": "de00986c",
   "metadata": {},
   "outputs": [],
   "source": [
    "def play_game():\n",
    "    game = True\n",
    "    while game:\n",
    "        clear_output()\n",
    "        print('Welcome to the Tic Tac Toe Game, the reference of the board is: ')\n",
    "        reference_board()\n",
    "        game = continue_game()\n",
    "        if game == False: break\n",
    "        clear_output()\n",
    "        clear_board(row1,row2,row3)\n",
    "        print('The board is empty: ')\n",
    "        print_board(row1,row2,row3)\n",
    "        player1 = input_player() # devuelve X o O\n",
    "        if player1 == 'X':\n",
    "            player2 = 'O'\n",
    "        else:\n",
    "            player2 = 'X'        \n",
    "        clear_output()\n",
    "        print_board(row1,row2,row3)\n",
    "        counter_game = 0\n",
    "        while True:\n",
    "            counter_game += 1\n",
    "            if counter_game >= 5:\n",
    "                clear_output()\n",
    "                print_board(row1,row2,row3)\n",
    "                print('GameOver none of the players has won.')\n",
    "                game = continue_game()\n",
    "                break\n",
    "            clear_output()\n",
    "            player_control(player1)\n",
    "            if check_game(row1,row2,row3):\n",
    "                game = continue_game()\n",
    "                break\n",
    "            clear_output()\n",
    "            player_control(player2)\n",
    "            if check_game(row1,row2,row3):\n",
    "                game = continue_game()\n",
    "                break\n",
    "    return counter_game"
   ]
  },
  {
   "cell_type": "code",
   "execution_count": 71,
   "id": "7fa3cf8a",
   "metadata": {},
   "outputs": [
    {
     "name": "stdout",
     "output_type": "stream",
     "text": [
      " X | O | X \n",
      "-----------\n",
      " O | X | X \n",
      "-----------\n",
      " O |   | O \n",
      "GameOver none of the players has won.\n",
      "Do you want to continue de Game, Y or N: n\n"
     ]
    },
    {
     "data": {
      "text/plain": [
       "5"
      ]
     },
     "execution_count": 71,
     "metadata": {},
     "output_type": "execute_result"
    }
   ],
   "source": [
    "play_game()"
   ]
  },
  {
   "cell_type": "code",
   "execution_count": null,
   "id": "6d13a594",
   "metadata": {},
   "outputs": [],
   "source": [
    "\n"
   ]
  },
  {
   "cell_type": "code",
   "execution_count": null,
   "id": "e6cdcdc5",
   "metadata": {},
   "outputs": [],
   "source": []
  }
 ],
 "metadata": {
  "kernelspec": {
   "display_name": "Python 3 (ipykernel)",
   "language": "python",
   "name": "python3"
  },
  "language_info": {
   "codemirror_mode": {
    "name": "ipython",
    "version": 3
   },
   "file_extension": ".py",
   "mimetype": "text/x-python",
   "name": "python",
   "nbconvert_exporter": "python",
   "pygments_lexer": "ipython3",
   "version": "3.9.7"
  }
 },
 "nbformat": 4,
 "nbformat_minor": 5
}
