{
 "cells": [
  {
   "cell_type": "code",
   "execution_count": null,
   "id": "25fdfdf2",
   "metadata": {},
   "outputs": [],
   "source": [
    "# FIND 33: Given a list of ints, return True if the array contains a 3 next to a 3 somewhere."
   ]
  },
  {
   "cell_type": "code",
   "execution_count": 3,
   "id": "016f7cb0",
   "metadata": {},
   "outputs": [],
   "source": [
    "def has_33(nums):\n",
    "    aux = 0\n",
    "    for n in nums:\n",
    "        if aux == n and aux == 3 :\n",
    "            return True\n",
    "        aux = n\n",
    "    return False\n",
    "        "
   ]
  },
  {
   "cell_type": "code",
   "execution_count": 9,
   "id": "bb2b5f5d",
   "metadata": {},
   "outputs": [
    {
     "data": {
      "text/plain": [
       "True"
      ]
     },
     "execution_count": 9,
     "metadata": {},
     "output_type": "execute_result"
    }
   ],
   "source": [
    "has_33([3,2,3,4,3,1,2,3,3])"
   ]
  },
  {
   "cell_type": "code",
   "execution_count": 10,
   "id": "00ac6493",
   "metadata": {},
   "outputs": [],
   "source": [
    "# PAPER DOLL: Given a string, return a string where for every character in the original there are three characters"
   ]
  },
  {
   "cell_type": "code",
   "execution_count": 13,
   "id": "edc6e531",
   "metadata": {},
   "outputs": [],
   "source": [
    "def paper_doll(string):\n",
    "    aux_string = ''\n",
    "    for n in string:\n",
    "        aux_string = aux_string + n + n + n\n",
    "    return aux_string"
   ]
  },
  {
   "cell_type": "code",
   "execution_count": 14,
   "id": "ff8c3a04",
   "metadata": {},
   "outputs": [
    {
     "data": {
      "text/plain": [
       "'HHHeeellllllooo'"
      ]
     },
     "execution_count": 14,
     "metadata": {},
     "output_type": "execute_result"
    }
   ],
   "source": [
    "paper_doll('Hello')"
   ]
  },
  {
   "cell_type": "code",
   "execution_count": 15,
   "id": "b1ea0a25",
   "metadata": {},
   "outputs": [],
   "source": [
    "# BLACKJACK: Given three integers between 1 and 11, if their sum is less than or equal to 21, return their sum. If their sum exceeds 21 and there's an eleven, reduce the total sum by 10. Finally, if the sum (even after adjustment) exceeds 21, return 'BUST'"
   ]
  },
  {
   "cell_type": "code",
   "execution_count": 25,
   "id": "4280773b",
   "metadata": {},
   "outputs": [],
   "source": [
    "def blackjack(a,b,c):\n",
    "    # control of the numbers between 1 and 11\n",
    "    if a<1 or a >11 or b<1 or b >11 or c<1 or c >11:\n",
    "        return 'Los numero ingresados deben estar entre 1 y 11, vuelva a ingresarlos'\n",
    "    number_sum = a + b + c\n",
    "    if number_sum <= 21:\n",
    "        return a + b + c\n",
    "    else:\n",
    "        if a == 11 or b == 11 or c == 11:\n",
    "            number_sum = number_sum - 10\n",
    "        if number_sum > 21:\n",
    "            return 'BUST'\n",
    "    return number_sum\n",
    "            "
   ]
  },
  {
   "cell_type": "code",
   "execution_count": 32,
   "id": "b17366e0",
   "metadata": {},
   "outputs": [
    {
     "data": {
      "text/plain": [
       "18"
      ]
     },
     "execution_count": 32,
     "metadata": {},
     "output_type": "execute_result"
    }
   ],
   "source": [
    "blackjack(5,6,7)"
   ]
  },
  {
   "cell_type": "code",
   "execution_count": 34,
   "id": "55076cb6",
   "metadata": {},
   "outputs": [
    {
     "data": {
      "text/plain": [
       "'BUST'"
      ]
     },
     "execution_count": 34,
     "metadata": {},
     "output_type": "execute_result"
    }
   ],
   "source": [
    "blackjack(9,9,9)"
   ]
  },
  {
   "cell_type": "code",
   "execution_count": 35,
   "id": "b775a49e",
   "metadata": {},
   "outputs": [],
   "source": [
    "# SUMMER OF '69: Return the sum of the numbers in the array, except ignore sections of numbers starting with a 6 and extending to the next 9 (every 6 will be followed by at least one 9). Return 0 for no numbers."
   ]
  },
  {
   "cell_type": "code",
   "execution_count": 40,
   "id": "016f6b47",
   "metadata": {},
   "outputs": [],
   "source": [
    "def summer_69(arr):\n",
    "    aux_sum = 0\n",
    "    aux_flag = False\n",
    "    for n in arr:\n",
    "        if aux_flag == True or n == 6:\n",
    "            aux_flag = True\n",
    "            if n == 9:\n",
    "                aux_flag = False\n",
    "        else:\n",
    "            aux_sum = aux_sum + n\n",
    "    return aux_sum"
   ]
  },
  {
   "cell_type": "code",
   "execution_count": 41,
   "id": "57aef648",
   "metadata": {},
   "outputs": [
    {
     "data": {
      "text/plain": [
       "9"
      ]
     },
     "execution_count": 41,
     "metadata": {},
     "output_type": "execute_result"
    }
   ],
   "source": [
    "summer_69([1, 3, 5])"
   ]
  },
  {
   "cell_type": "code",
   "execution_count": 43,
   "id": "80514f3a",
   "metadata": {},
   "outputs": [
    {
     "data": {
      "text/plain": [
       "14"
      ]
     },
     "execution_count": 43,
     "metadata": {},
     "output_type": "execute_result"
    }
   ],
   "source": [
    "summer_69([2, 1, 6, 9, 11])"
   ]
  },
  {
   "cell_type": "code",
   "execution_count": null,
   "id": "447bf9ad",
   "metadata": {},
   "outputs": [],
   "source": []
  }
 ],
 "metadata": {
  "kernelspec": {
   "display_name": "Python 3 (ipykernel)",
   "language": "python",
   "name": "python3"
  },
  "language_info": {
   "codemirror_mode": {
    "name": "ipython",
    "version": 3
   },
   "file_extension": ".py",
   "mimetype": "text/x-python",
   "name": "python",
   "nbconvert_exporter": "python",
   "pygments_lexer": "ipython3",
   "version": "3.9.7"
  }
 },
 "nbformat": 4,
 "nbformat_minor": 5
}
