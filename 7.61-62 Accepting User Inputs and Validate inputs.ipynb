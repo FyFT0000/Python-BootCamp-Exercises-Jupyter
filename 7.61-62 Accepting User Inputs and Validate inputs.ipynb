{
 "cells": [
  {
   "cell_type": "code",
   "execution_count": 4,
   "id": "1519d508",
   "metadata": {},
   "outputs": [
    {
     "name": "stdout",
     "output_type": "stream",
     "text": [
      "Please ener a value: 2\n"
     ]
    },
    {
     "data": {
      "text/plain": [
       "'2'"
      ]
     },
     "execution_count": 4,
     "metadata": {},
     "output_type": "execute_result"
    }
   ],
   "source": [
    "input('Please ener a value: ')"
   ]
  },
  {
   "cell_type": "code",
   "execution_count": 5,
   "id": "befbe4e1",
   "metadata": {},
   "outputs": [
    {
     "name": "stdout",
     "output_type": "stream",
     "text": [
      "Please ener a value: 2\n"
     ]
    }
   ],
   "source": [
    "result = input('Please ener a value: ')"
   ]
  },
  {
   "cell_type": "code",
   "execution_count": 6,
   "id": "3bf2a511",
   "metadata": {},
   "outputs": [
    {
     "data": {
      "text/plain": [
       "'2'"
      ]
     },
     "execution_count": 6,
     "metadata": {},
     "output_type": "execute_result"
    }
   ],
   "source": [
    "result"
   ]
  },
  {
   "cell_type": "code",
   "execution_count": 7,
   "id": "224232cb",
   "metadata": {},
   "outputs": [
    {
     "data": {
      "text/plain": [
       "str"
      ]
     },
     "execution_count": 7,
     "metadata": {},
     "output_type": "execute_result"
    }
   ],
   "source": [
    "type(result)"
   ]
  },
  {
   "cell_type": "code",
   "execution_count": 8,
   "id": "a22e4e17",
   "metadata": {},
   "outputs": [],
   "source": [
    "result = int(result)"
   ]
  },
  {
   "cell_type": "code",
   "execution_count": 9,
   "id": "1d88d4f9",
   "metadata": {},
   "outputs": [
    {
     "data": {
      "text/plain": [
       "2"
      ]
     },
     "execution_count": 9,
     "metadata": {},
     "output_type": "execute_result"
    }
   ],
   "source": [
    "result"
   ]
  },
  {
   "cell_type": "code",
   "execution_count": 10,
   "id": "f10506d6",
   "metadata": {},
   "outputs": [
    {
     "data": {
      "text/plain": [
       "int"
      ]
     },
     "execution_count": 10,
     "metadata": {},
     "output_type": "execute_result"
    }
   ],
   "source": [
    "type(result)"
   ]
  },
  {
   "cell_type": "code",
   "execution_count": 11,
   "id": "0e7623d0",
   "metadata": {},
   "outputs": [
    {
     "name": "stdout",
     "output_type": "stream",
     "text": [
      "Enter a number: 2\n"
     ]
    }
   ],
   "source": [
    "result = input('Enter a number: ')"
   ]
  },
  {
   "cell_type": "code",
   "execution_count": 12,
   "id": "1cb46f4c",
   "metadata": {},
   "outputs": [
    {
     "data": {
      "text/plain": [
       "4"
      ]
     },
     "execution_count": 12,
     "metadata": {},
     "output_type": "execute_result"
    }
   ],
   "source": [
    "2+2"
   ]
  },
  {
   "cell_type": "code",
   "execution_count": 13,
   "id": "0cc5fde4",
   "metadata": {},
   "outputs": [
    {
     "name": "stdout",
     "output_type": "stream",
     "text": [
      "Enter a Number: 2\n"
     ]
    },
    {
     "data": {
      "text/plain": [
       "'2'"
      ]
     },
     "execution_count": 13,
     "metadata": {},
     "output_type": "execute_result"
    }
   ],
   "source": [
    "input('Enter a Number: ')"
   ]
  },
  {
   "cell_type": "code",
   "execution_count": 15,
   "id": "6b371132",
   "metadata": {},
   "outputs": [
    {
     "data": {
      "text/plain": [
       "40"
      ]
     },
     "execution_count": 15,
     "metadata": {},
     "output_type": "execute_result"
    }
   ],
   "source": [
    "20+20"
   ]
  },
  {
   "cell_type": "code",
   "execution_count": 56,
   "id": "c400201a",
   "metadata": {},
   "outputs": [],
   "source": [
    "def number_isdigit():\n",
    "#    choice = ''\n",
    "    while True:\n",
    "        choice = input('Please enter a number (0-10): ')\n",
    "        if (choice.isdigit() == True) and (int(choice) in range(0,11)):\n",
    "            break\n",
    "        else:\n",
    "            print('\\nYou have not enter a Int or a number (0-10)\\n')\n",
    "    return choice"
   ]
  },
  {
   "cell_type": "code",
   "execution_count": 57,
   "id": "1bcd0a14",
   "metadata": {},
   "outputs": [
    {
     "name": "stdout",
     "output_type": "stream",
     "text": [
      "Please enter a number (0-10): 4\n"
     ]
    },
    {
     "data": {
      "text/plain": [
       "'4'"
      ]
     },
     "execution_count": 57,
     "metadata": {},
     "output_type": "execute_result"
    }
   ],
   "source": [
    "number_isdigit()"
   ]
  },
  {
   "cell_type": "code",
   "execution_count": 132,
   "id": "585b1ba4",
   "metadata": {},
   "outputs": [],
   "source": [
    "from IPython.display import clear_output\n",
    "def number_int():\n",
    "    while True:\n",
    "        choice = input('Please enter a number (0-10): ')\n",
    "        clear_output()\n",
    "        try:\n",
    "            choice = int(choice)\n",
    "            if choice in range(0,11):\n",
    "                break\n",
    "            print('\\nYou have not enter a number (0-10)')\n",
    "        except ValueError:\n",
    "            print('\\nYou have not enter a Int')\n",
    "    return choice\n",
    "        "
   ]
  },
  {
   "cell_type": "code",
   "execution_count": 134,
   "id": "d5ded464",
   "metadata": {},
   "outputs": [
    {
     "data": {
      "text/plain": [
       "6"
      ]
     },
     "execution_count": 134,
     "metadata": {},
     "output_type": "execute_result"
    }
   ],
   "source": [
    "number_int()"
   ]
  },
  {
   "cell_type": "code",
   "execution_count": 116,
   "id": "40cced1d",
   "metadata": {},
   "outputs": [],
   "source": [
    "def user_choice():\n",
    "    choice = ''\n",
    "    while choice.isdigit() == False or (int(choice) not in range(0,11)):\n",
    "        # if the statment will be AND intead of OR it going to excute a give an error.\n",
    "        choice = input('Please enter a number (0-10): ')\n",
    "    return int(choice)"
   ]
  },
  {
   "cell_type": "code",
   "execution_count": 119,
   "id": "5160af95",
   "metadata": {},
   "outputs": [
    {
     "name": "stdout",
     "output_type": "stream",
     "text": [
      "Please enter a number (0-10): -30\n",
      "Please enter a number (0-10): t\n",
      "Please enter a number (0-10): 0\n"
     ]
    },
    {
     "data": {
      "text/plain": [
       "0"
      ]
     },
     "execution_count": 119,
     "metadata": {},
     "output_type": "execute_result"
    }
   ],
   "source": [
    "user_choice()"
   ]
  },
  {
   "cell_type": "code",
   "execution_count": null,
   "id": "c94d164f",
   "metadata": {},
   "outputs": [],
   "source": []
  }
 ],
 "metadata": {
  "kernelspec": {
   "display_name": "Python 3 (ipykernel)",
   "language": "python",
   "name": "python3"
  },
  "language_info": {
   "codemirror_mode": {
    "name": "ipython",
    "version": 3
   },
   "file_extension": ".py",
   "mimetype": "text/x-python",
   "name": "python",
   "nbconvert_exporter": "python",
   "pygments_lexer": "ipython3",
   "version": "3.9.7"
  }
 },
 "nbformat": 4,
 "nbformat_minor": 5
}
