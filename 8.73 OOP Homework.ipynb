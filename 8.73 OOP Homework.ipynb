{
 "cells": [
  {
   "cell_type": "code",
   "execution_count": 1,
   "id": "42823231",
   "metadata": {},
   "outputs": [],
   "source": [
    "#Problem 1: Fill in the Line class methods to accept coordinates as a pair of tuples and return the slope and distance of the line."
   ]
  },
  {
   "cell_type": "code",
   "execution_count": 297,
   "id": "7dfde5bf",
   "metadata": {},
   "outputs": [],
   "source": [
    "class Coordinates1():\n",
    "    \n",
    "    def __init__(self,coord1,coord2):\n",
    "        self.coord1 = coord1 # this is a tuple of two items\n",
    "        self.coord2 = coord2\n",
    "    \n",
    "    def slope(self):\n",
    "        if (self.coord2[0]-self.coord1[0]) == 0:\n",
    "            return 'Slope is infinte'\n",
    "        return (self.coord2[1]-self.coord1[1]) / (self.coord2[0]-self.coord1[0])\n",
    "        \n",
    "    def distance(self):\n",
    "        return ((self.coord2[1]-self.coord1[1])**2 + (self.coord2[0]-self.coord1[0])**2)**0.5\n",
    "    \n",
    "    def __str__(self):\n",
    "        x1,y1 = self.coord1\n",
    "        x2,y2 = self.coord2\n",
    "        return 'X coordinate is: '+str(x1)+', '+str(y1)+'\\nY coordinate is: '+str(x2)+', '+str(y2)\n",
    "#        return 'X coordinate is: {} \\nY coordinate is: {}'.format(self.coord1,self.coord2)"
   ]
  },
  {
   "cell_type": "code",
   "execution_count": 298,
   "id": "cdc8680e",
   "metadata": {},
   "outputs": [],
   "source": [
    "my_coordinates = Coordinates1((3,2),(8,10))"
   ]
  },
  {
   "cell_type": "code",
   "execution_count": 299,
   "id": "009fe92b",
   "metadata": {},
   "outputs": [
    {
     "name": "stdout",
     "output_type": "stream",
     "text": [
      "X coordinate is: 3, 2\n",
      "Y coordinate is: 8, 10\n"
     ]
    }
   ],
   "source": [
    "print(my_coordinates)"
   ]
  },
  {
   "cell_type": "code",
   "execution_count": 302,
   "id": "9fa779ed",
   "metadata": {},
   "outputs": [
    {
     "name": "stdout",
     "output_type": "stream",
     "text": [
      "611 ns ± 67 ns per loop (mean ± std. dev. of 7 runs, 1000000 loops each)\n"
     ]
    }
   ],
   "source": [
    "%timeit my_coordinates.slope()"
   ]
  },
  {
   "cell_type": "code",
   "execution_count": 306,
   "id": "42d99b6b",
   "metadata": {},
   "outputs": [
    {
     "name": "stdout",
     "output_type": "stream",
     "text": [
      "Wall time: 0 ns\n"
     ]
    },
    {
     "data": {
      "text/plain": [
       "1.6"
      ]
     },
     "execution_count": 306,
     "metadata": {},
     "output_type": "execute_result"
    }
   ],
   "source": [
    "%%time\n",
    "my_coordinates.slope()"
   ]
  },
  {
   "cell_type": "code",
   "execution_count": 213,
   "id": "a54ef309",
   "metadata": {},
   "outputs": [
    {
     "data": {
      "text/plain": [
       "9.433981132056603"
      ]
     },
     "execution_count": 213,
     "metadata": {},
     "output_type": "execute_result"
    }
   ],
   "source": [
    "my_coordinates.distance()"
   ]
  },
  {
   "cell_type": "code",
   "execution_count": null,
   "id": "0a97ec39",
   "metadata": {},
   "outputs": [],
   "source": []
  },
  {
   "cell_type": "code",
   "execution_count": 73,
   "id": "cfb1a5d7",
   "metadata": {},
   "outputs": [],
   "source": [
    "# Problem 2: Fill in the following class:"
   ]
  },
  {
   "cell_type": "code",
   "execution_count": 229,
   "id": "781a3dd1",
   "metadata": {},
   "outputs": [],
   "source": [
    "class Cylinder:\n",
    "    \n",
    "    def __init__(self,height=1,radius=1):\n",
    "        self.height = height\n",
    "        self.radius = radius\n",
    "        \n",
    "    def volume(self):\n",
    "        return (3.14*self.radius**2)*self.height\n",
    "    \n",
    "    def surface_area(self):\n",
    "        return (2*3.14*self.radius*self.height) + (2*3.14*self.radius**2)"
   ]
  },
  {
   "cell_type": "code",
   "execution_count": 310,
   "id": "47056e14",
   "metadata": {},
   "outputs": [],
   "source": [
    "my_cylinder = Cylinder(2,3)"
   ]
  },
  {
   "cell_type": "code",
   "execution_count": 311,
   "id": "76200631",
   "metadata": {},
   "outputs": [
    {
     "data": {
      "text/plain": [
       "94.2"
      ]
     },
     "execution_count": 311,
     "metadata": {},
     "output_type": "execute_result"
    }
   ],
   "source": [
    "my_cylinder.surface_area()"
   ]
  },
  {
   "cell_type": "code",
   "execution_count": 312,
   "id": "2a74f7d0",
   "metadata": {},
   "outputs": [
    {
     "data": {
      "text/plain": [
       "56.52"
      ]
     },
     "execution_count": 312,
     "metadata": {},
     "output_type": "execute_result"
    }
   ],
   "source": [
    "my_cylinder.volume()"
   ]
  },
  {
   "cell_type": "code",
   "execution_count": null,
   "id": "69787968",
   "metadata": {},
   "outputs": [],
   "source": []
  }
 ],
 "metadata": {
  "kernelspec": {
   "display_name": "Python 3 (ipykernel)",
   "language": "python",
   "name": "python3"
  },
  "language_info": {
   "codemirror_mode": {
    "name": "ipython",
    "version": 3
   },
   "file_extension": ".py",
   "mimetype": "text/x-python",
   "name": "python",
   "nbconvert_exporter": "python",
   "pygments_lexer": "ipython3",
   "version": "3.9.7"
  }
 },
 "nbformat": 4,
 "nbformat_minor": 5
}
