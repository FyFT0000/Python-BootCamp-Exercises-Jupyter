{
 "cells": [
  {
   "cell_type": "code",
   "execution_count": 5,
   "id": "bfb002e9",
   "metadata": {},
   "outputs": [],
   "source": [
    "def myfunc(a,b):\n",
    "    # returns 5% of the sum of a and b\n",
    "    return sum((a,b))*0.05"
   ]
  },
  {
   "cell_type": "code",
   "execution_count": 6,
   "id": "9e5e72ac",
   "metadata": {},
   "outputs": [
    {
     "data": {
      "text/plain": [
       "5.0"
      ]
     },
     "execution_count": 6,
     "metadata": {},
     "output_type": "execute_result"
    }
   ],
   "source": [
    "myfunc(40,60)"
   ]
  },
  {
   "cell_type": "code",
   "execution_count": 7,
   "id": "2f2780f1",
   "metadata": {},
   "outputs": [],
   "source": [
    "def myfunc_arg(*args):\n",
    "    # returns 5% of the sum of a and b\n",
    "    return sum((args))*0.05"
   ]
  },
  {
   "cell_type": "code",
   "execution_count": 9,
   "id": "67d08093",
   "metadata": {},
   "outputs": [
    {
     "data": {
      "text/plain": [
       "7.5"
      ]
     },
     "execution_count": 9,
     "metadata": {},
     "output_type": "execute_result"
    }
   ],
   "source": [
    "myfunc_arg(10,20,30,40,50)"
   ]
  },
  {
   "cell_type": "code",
   "execution_count": 12,
   "id": "6dd6f96b",
   "metadata": {},
   "outputs": [],
   "source": [
    "def myfunc_arg2(*args):\n",
    "    # returns 5% of the sum of a and b\n",
    "    value = 0\n",
    "    for n in args:\n",
    "        value += n\n",
    "    return value*0.05\n",
    "    "
   ]
  },
  {
   "cell_type": "code",
   "execution_count": 15,
   "id": "7033f898",
   "metadata": {},
   "outputs": [
    {
     "data": {
      "text/plain": [
       "8.5"
      ]
     },
     "execution_count": 15,
     "metadata": {},
     "output_type": "execute_result"
    }
   ],
   "source": [
    "myfunc_arg2(10,20,30,40,70)"
   ]
  },
  {
   "cell_type": "code",
   "execution_count": 18,
   "id": "0902bd10",
   "metadata": {},
   "outputs": [],
   "source": [
    "def myfunc_kwargs(**kwargs):\n",
    "    if 'fruit' in kwargs:\n",
    "        print('My fruit of choise is {}'.format(kwargs['fruit']))\n",
    "    else:\n",
    "        print('I did not find any fruit here')\n",
    "    "
   ]
  },
  {
   "cell_type": "code",
   "execution_count": 19,
   "id": "149e0446",
   "metadata": {},
   "outputs": [
    {
     "name": "stdout",
     "output_type": "stream",
     "text": [
      "My fruit of choise is apple\n"
     ]
    }
   ],
   "source": [
    "myfunc_kwargs(fruit='apple')"
   ]
  },
  {
   "cell_type": "code",
   "execution_count": 20,
   "id": "a32f326f",
   "metadata": {},
   "outputs": [
    {
     "name": "stdout",
     "output_type": "stream",
     "text": [
      "I did not find any fruit here\n"
     ]
    }
   ],
   "source": [
    "myfunc_kwargs(country='Italia')"
   ]
  },
  {
   "cell_type": "code",
   "execution_count": 25,
   "id": "f8b8ec59",
   "metadata": {},
   "outputs": [],
   "source": [
    "def myfunc_arg_kwarg(*args,**kwargs):\n",
    "    print(args)\n",
    "    print(kwargs)\n",
    "    print('I would like {} {}'.format(args[0],kwargs['food']))"
   ]
  },
  {
   "cell_type": "code",
   "execution_count": 27,
   "id": "06b40409",
   "metadata": {},
   "outputs": [
    {
     "name": "stdout",
     "output_type": "stream",
     "text": [
      "(10, 20, 30)\n",
      "{'fruit': 'orange', 'food': 'eggs', 'animal': 'dog'}\n",
      "I would like 10 eggs\n"
     ]
    }
   ],
   "source": [
    "myfunc_arg_kwarg(10,20,30,fruit='orange',food='eggs',animal='dog')"
   ]
  },
  {
   "cell_type": "code",
   "execution_count": null,
   "id": "90747394",
   "metadata": {},
   "outputs": [],
   "source": []
  }
 ],
 "metadata": {
  "kernelspec": {
   "display_name": "Python 3 (ipykernel)",
   "language": "python",
   "name": "python3"
  },
  "language_info": {
   "codemirror_mode": {
    "name": "ipython",
    "version": 3
   },
   "file_extension": ".py",
   "mimetype": "text/x-python",
   "name": "python",
   "nbconvert_exporter": "python",
   "pygments_lexer": "ipython3",
   "version": "3.9.7"
  }
 },
 "nbformat": 4,
 "nbformat_minor": 5
}
