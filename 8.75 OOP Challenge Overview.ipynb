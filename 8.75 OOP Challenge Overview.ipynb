{
 "cells": [
  {
   "cell_type": "code",
   "execution_count": 107,
   "id": "6dccdcd3",
   "metadata": {},
   "outputs": [],
   "source": [
    "class Account():\n",
    "    def __init__(self,owner,balance):\n",
    "        if balance > 0:\n",
    "            self.balance = balance\n",
    "        else:\n",
    "            print('Balance should be greater than cero, client not created')\n",
    "            return None\n",
    "        self.owner = owner\n",
    "        \n",
    "    def deposit(self,amount):\n",
    "        if amount >= 0:\n",
    "            self.balance = self.balance + amount\n",
    "            return self.balance\n",
    "        else:\n",
    "            return \"Mount to deposit must be greater than cero\"\n",
    "    \n",
    "    def withdraw(self,amount):\n",
    "        if amount <= self.balance:\n",
    "            self.balance -= amount\n",
    "            return self.balance\n",
    "        else:\n",
    "            return 'Mount to withdraw must be less than the balance: ${}.'.format(self.balance)\n",
    "    \n",
    "    def __str__(self):\n",
    "        return f'Client: {self.owner}, ' + 'has a total balance of: ${}'.format(str(self.balance))"
   ]
  },
  {
   "cell_type": "code",
   "execution_count": 108,
   "id": "175df3e9",
   "metadata": {},
   "outputs": [],
   "source": [
    "Client1 = Account('Facundo',2000)"
   ]
  },
  {
   "cell_type": "code",
   "execution_count": 109,
   "id": "d2b77bf4",
   "metadata": {},
   "outputs": [
    {
     "data": {
      "text/plain": [
       "<__main__.Account at 0x19f81a5d130>"
      ]
     },
     "execution_count": 109,
     "metadata": {},
     "output_type": "execute_result"
    }
   ],
   "source": [
    "Client1"
   ]
  },
  {
   "cell_type": "code",
   "execution_count": 110,
   "id": "7600744a",
   "metadata": {},
   "outputs": [
    {
     "name": "stdout",
     "output_type": "stream",
     "text": [
      "Client: Facundo, has a total balance of: $2000\n"
     ]
    }
   ],
   "source": [
    "print (Client1)"
   ]
  },
  {
   "cell_type": "code",
   "execution_count": 115,
   "id": "bc41dc9b",
   "metadata": {},
   "outputs": [
    {
     "data": {
      "text/plain": [
       "4000"
      ]
     },
     "execution_count": 115,
     "metadata": {},
     "output_type": "execute_result"
    }
   ],
   "source": [
    "Client1.deposit(1000)"
   ]
  },
  {
   "cell_type": "code",
   "execution_count": 116,
   "id": "89bdc83b",
   "metadata": {},
   "outputs": [
    {
     "data": {
      "text/plain": [
       "3500"
      ]
     },
     "execution_count": 116,
     "metadata": {},
     "output_type": "execute_result"
    }
   ],
   "source": [
    "Client1.withdraw(500)"
   ]
  },
  {
   "cell_type": "code",
   "execution_count": null,
   "id": "eb0b51af",
   "metadata": {},
   "outputs": [],
   "source": []
  }
 ],
 "metadata": {
  "kernelspec": {
   "display_name": "Python 3 (ipykernel)",
   "language": "python",
   "name": "python3"
  },
  "language_info": {
   "codemirror_mode": {
    "name": "ipython",
    "version": 3
   },
   "file_extension": ".py",
   "mimetype": "text/x-python",
   "name": "python",
   "nbconvert_exporter": "python",
   "pygments_lexer": "ipython3",
   "version": "3.9.7"
  }
 },
 "nbformat": 4,
 "nbformat_minor": 5
}
