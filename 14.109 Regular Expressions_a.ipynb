{
 "cells": [
  {
   "cell_type": "code",
   "execution_count": 1,
   "id": "4f786627",
   "metadata": {},
   "outputs": [],
   "source": [
    "text = 'The agent phone number is 408-555-1234. Call son!'"
   ]
  },
  {
   "cell_type": "code",
   "execution_count": 2,
   "id": "6b4ddb79",
   "metadata": {},
   "outputs": [
    {
     "data": {
      "text/plain": [
       "True"
      ]
     },
     "execution_count": 2,
     "metadata": {},
     "output_type": "execute_result"
    }
   ],
   "source": [
    "'phone' in text"
   ]
  },
  {
   "cell_type": "code",
   "execution_count": 3,
   "id": "ea3ea255",
   "metadata": {},
   "outputs": [],
   "source": [
    "import re"
   ]
  },
  {
   "cell_type": "code",
   "execution_count": 32,
   "id": "e9d2c14b",
   "metadata": {},
   "outputs": [],
   "source": [
    "pattern = 'phone'"
   ]
  },
  {
   "cell_type": "code",
   "execution_count": 8,
   "id": "de12de83",
   "metadata": {},
   "outputs": [],
   "source": [
    "serch1 = re.search(pattern,text)"
   ]
  },
  {
   "cell_type": "code",
   "execution_count": 10,
   "id": "56f925e7",
   "metadata": {},
   "outputs": [
    {
     "data": {
      "text/plain": [
       "<re.Match object; span=(10, 15), match='phone'>"
      ]
     },
     "execution_count": 10,
     "metadata": {},
     "output_type": "execute_result"
    }
   ],
   "source": [
    "serch1"
   ]
  },
  {
   "cell_type": "code",
   "execution_count": 11,
   "id": "63e1f08d",
   "metadata": {},
   "outputs": [
    {
     "data": {
      "text/plain": [
       "re.Match"
      ]
     },
     "execution_count": 11,
     "metadata": {},
     "output_type": "execute_result"
    }
   ],
   "source": [
    "type(serch1)"
   ]
  },
  {
   "cell_type": "code",
   "execution_count": 18,
   "id": "bc5ce312",
   "metadata": {},
   "outputs": [],
   "source": [
    "pattern1 = 'Not in Text'"
   ]
  },
  {
   "cell_type": "code",
   "execution_count": 19,
   "id": "cb752436",
   "metadata": {},
   "outputs": [],
   "source": [
    "serch2 = re.search(pattern1,text)"
   ]
  },
  {
   "cell_type": "code",
   "execution_count": 20,
   "id": "c65be9be",
   "metadata": {},
   "outputs": [],
   "source": [
    "serch2"
   ]
  },
  {
   "cell_type": "code",
   "execution_count": 21,
   "id": "aae7c2dc",
   "metadata": {},
   "outputs": [
    {
     "data": {
      "text/plain": [
       "NoneType"
      ]
     },
     "execution_count": 21,
     "metadata": {},
     "output_type": "execute_result"
    }
   ],
   "source": [
    "type(serch2)"
   ]
  },
  {
   "cell_type": "code",
   "execution_count": 23,
   "id": "bdc74760",
   "metadata": {},
   "outputs": [
    {
     "data": {
      "text/plain": [
       "(10, 15)"
      ]
     },
     "execution_count": 23,
     "metadata": {},
     "output_type": "execute_result"
    }
   ],
   "source": [
    "serch1.span()"
   ]
  },
  {
   "cell_type": "code",
   "execution_count": 24,
   "id": "9c87e763",
   "metadata": {},
   "outputs": [
    {
     "data": {
      "text/plain": [
       "15"
      ]
     },
     "execution_count": 24,
     "metadata": {},
     "output_type": "execute_result"
    }
   ],
   "source": [
    "serch1.end()"
   ]
  },
  {
   "cell_type": "code",
   "execution_count": 33,
   "id": "cf9628d0",
   "metadata": {},
   "outputs": [],
   "source": [
    "text2 = 'my phone once, my phone twice'"
   ]
  },
  {
   "cell_type": "code",
   "execution_count": 34,
   "id": "6cdb30bf",
   "metadata": {},
   "outputs": [],
   "source": [
    "serch3 = re.search(pattern,text2)"
   ]
  },
  {
   "cell_type": "code",
   "execution_count": 35,
   "id": "ff2d720b",
   "metadata": {},
   "outputs": [
    {
     "data": {
      "text/plain": [
       "<re.Match object; span=(3, 8), match='phone'>"
      ]
     },
     "execution_count": 35,
     "metadata": {},
     "output_type": "execute_result"
    }
   ],
   "source": [
    "serch3"
   ]
  },
  {
   "cell_type": "code",
   "execution_count": 37,
   "id": "db7538c8",
   "metadata": {},
   "outputs": [],
   "source": [
    "serchs = re.findall(pattern,text2)"
   ]
  },
  {
   "cell_type": "code",
   "execution_count": 38,
   "id": "e1a3a78a",
   "metadata": {},
   "outputs": [
    {
     "data": {
      "text/plain": [
       "['phone', 'phone']"
      ]
     },
     "execution_count": 38,
     "metadata": {},
     "output_type": "execute_result"
    }
   ],
   "source": [
    "serchs"
   ]
  },
  {
   "cell_type": "code",
   "execution_count": 40,
   "id": "e94d0c86",
   "metadata": {},
   "outputs": [
    {
     "name": "stdout",
     "output_type": "stream",
     "text": [
      "<re.Match object; span=(3, 8), match='phone'>\n",
      "<re.Match object; span=(18, 23), match='phone'>\n"
     ]
    }
   ],
   "source": [
    "for serch in re.finditer(pattern,text2):\n",
    "    print(serch)"
   ]
  },
  {
   "cell_type": "code",
   "execution_count": null,
   "id": "2de7e56d",
   "metadata": {},
   "outputs": [],
   "source": []
  },
  {
   "cell_type": "code",
   "execution_count": null,
   "id": "35837e1d",
   "metadata": {},
   "outputs": [],
   "source": []
  },
  {
   "cell_type": "code",
   "execution_count": null,
   "id": "c37a4731",
   "metadata": {},
   "outputs": [],
   "source": []
  },
  {
   "cell_type": "code",
   "execution_count": null,
   "id": "ed34ebf3",
   "metadata": {},
   "outputs": [],
   "source": []
  }
 ],
 "metadata": {
  "kernelspec": {
   "display_name": "Python 3 (ipykernel)",
   "language": "python",
   "name": "python3"
  },
  "language_info": {
   "codemirror_mode": {
    "name": "ipython",
    "version": 3
   },
   "file_extension": ".py",
   "mimetype": "text/x-python",
   "name": "python",
   "nbconvert_exporter": "python",
   "pygments_lexer": "ipython3",
   "version": "3.9.7"
  }
 },
 "nbformat": 4,
 "nbformat_minor": 5
}
