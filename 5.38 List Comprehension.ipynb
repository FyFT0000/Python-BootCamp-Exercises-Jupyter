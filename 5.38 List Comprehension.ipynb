{
 "cells": [
  {
   "cell_type": "code",
   "execution_count": 3,
   "id": "4c17d525",
   "metadata": {},
   "outputs": [],
   "source": [
    "mystring = 'hello'"
   ]
  },
  {
   "cell_type": "code",
   "execution_count": 4,
   "id": "b5aec170",
   "metadata": {},
   "outputs": [],
   "source": [
    "mylist = []\n",
    "\n",
    "for letter in mystring:\n",
    "    mylist.append(letter)"
   ]
  },
  {
   "cell_type": "code",
   "execution_count": 5,
   "id": "85d32db9",
   "metadata": {},
   "outputs": [
    {
     "data": {
      "text/plain": [
       "['h', 'e', 'l', 'l', 'o']"
      ]
     },
     "execution_count": 5,
     "metadata": {},
     "output_type": "execute_result"
    }
   ],
   "source": [
    "mylist"
   ]
  },
  {
   "cell_type": "code",
   "execution_count": 6,
   "id": "46bc4f3e",
   "metadata": {},
   "outputs": [],
   "source": [
    "mylist2 = [letter for letter in mylist]"
   ]
  },
  {
   "cell_type": "code",
   "execution_count": 7,
   "id": "86e2ac32",
   "metadata": {},
   "outputs": [
    {
     "data": {
      "text/plain": [
       "['h', 'e', 'l', 'l', 'o']"
      ]
     },
     "execution_count": 7,
     "metadata": {},
     "output_type": "execute_result"
    }
   ],
   "source": [
    "mylist2"
   ]
  },
  {
   "cell_type": "code",
   "execution_count": 10,
   "id": "6347755d",
   "metadata": {},
   "outputs": [],
   "source": [
    "mylist3 = [x for x in 'world test']"
   ]
  },
  {
   "cell_type": "code",
   "execution_count": 11,
   "id": "64424bcd",
   "metadata": {},
   "outputs": [
    {
     "data": {
      "text/plain": [
       "['w', 'o', 'r', 'l', 'd', ' ', 't', 'e', 's', 't']"
      ]
     },
     "execution_count": 11,
     "metadata": {},
     "output_type": "execute_result"
    }
   ],
   "source": [
    "mylist3"
   ]
  },
  {
   "cell_type": "code",
   "execution_count": 14,
   "id": "84dddeae",
   "metadata": {},
   "outputs": [
    {
     "data": {
      "text/plain": [
       "[0, 1, 2, 3, 4, 5, 6, 7, 8, 9, 10]"
      ]
     },
     "execution_count": 14,
     "metadata": {},
     "output_type": "execute_result"
    }
   ],
   "source": [
    "mylist4 = [num for num in range(0,11)]\n",
    "mylist4"
   ]
  },
  {
   "cell_type": "code",
   "execution_count": 15,
   "id": "86626952",
   "metadata": {},
   "outputs": [
    {
     "data": {
      "text/plain": [
       "[0, 1, 4, 9, 16, 25, 36, 49, 64, 81, 100]"
      ]
     },
     "execution_count": 15,
     "metadata": {},
     "output_type": "execute_result"
    }
   ],
   "source": [
    "mylist5 = [num**2 for num in range(0,11)]\n",
    "mylist5"
   ]
  },
  {
   "cell_type": "code",
   "execution_count": 16,
   "id": "4df4fc3f",
   "metadata": {},
   "outputs": [
    {
     "data": {
      "text/plain": [
       "[0, 2, 4, 6, 8, 10]"
      ]
     },
     "execution_count": 16,
     "metadata": {},
     "output_type": "execute_result"
    }
   ],
   "source": [
    "mylist6 = [x for x in range(0,11) if x%2 == 0]\n",
    "mylist6"
   ]
  },
  {
   "cell_type": "code",
   "execution_count": 21,
   "id": "b278f07d",
   "metadata": {},
   "outputs": [
    {
     "data": {
      "text/plain": [
       "[32.0, 68.0, 89.6, 95.0, 194.0, 212.0]"
      ]
     },
     "execution_count": 21,
     "metadata": {},
     "output_type": "execute_result"
    }
   ],
   "source": [
    "celcius = [0,20,32,35,90,100]\n",
    "fahreinheit = [((9/5) * temp + 32) for temp in celcius]\n",
    "fahreinheit"
   ]
  },
  {
   "cell_type": "code",
   "execution_count": 22,
   "id": "2b8a26f6",
   "metadata": {},
   "outputs": [
    {
     "data": {
      "text/plain": [
       "[32.0, 68.0, 89.6, 95.0, 194.0, 212.0]"
      ]
     },
     "execution_count": 22,
     "metadata": {},
     "output_type": "execute_result"
    }
   ],
   "source": [
    "celcius2 = [0,20,32,35,90,100]\n",
    "fahreinheit2 = []\n",
    "\n",
    "for temp2 in celcius2:\n",
    "    fahreinheit2.append((9/5)*temp2+32)\n",
    "fahreinheit2"
   ]
  },
  {
   "cell_type": "code",
   "execution_count": 23,
   "id": "1ff8be25",
   "metadata": {},
   "outputs": [
    {
     "data": {
      "text/plain": [
       "[0, 'Odd', 2, 'Odd', 4, 'Odd', 6, 'Odd', 8, 'Odd', 10]"
      ]
     },
     "execution_count": 23,
     "metadata": {},
     "output_type": "execute_result"
    }
   ],
   "source": [
    "result = [x if x%2 == 0 else 'Odd' for x in range(0,11)]\n",
    "result"
   ]
  },
  {
   "cell_type": "code",
   "execution_count": 24,
   "id": "a0cb92b5",
   "metadata": {},
   "outputs": [
    {
     "data": {
      "text/plain": [
       "[1, 10, 100, 2, 20, 200, 6, 60, 600]"
      ]
     },
     "execution_count": 24,
     "metadata": {},
     "output_type": "execute_result"
    }
   ],
   "source": [
    "mylist7 = []\n",
    "for x in [1,2,6]:\n",
    "    for y in [1,10,100]:\n",
    "        mylist7.append(x*y)\n",
    "mylist7"
   ]
  },
  {
   "cell_type": "code",
   "execution_count": 25,
   "id": "7d3815af",
   "metadata": {},
   "outputs": [
    {
     "data": {
      "text/plain": [
       "[1, 10, 100, 2, 20, 200, 6, 60, 600]"
      ]
     },
     "execution_count": 25,
     "metadata": {},
     "output_type": "execute_result"
    }
   ],
   "source": [
    "mylist8 = [x*y for x in [1,2,6] for y in [1,10,100]]\n",
    "mylist8"
   ]
  },
  {
   "cell_type": "code",
   "execution_count": null,
   "id": "24b6f70d",
   "metadata": {},
   "outputs": [],
   "source": []
  }
 ],
 "metadata": {
  "kernelspec": {
   "display_name": "Python 3 (ipykernel)",
   "language": "python",
   "name": "python3"
  },
  "language_info": {
   "codemirror_mode": {
    "name": "ipython",
    "version": 3
   },
   "file_extension": ".py",
   "mimetype": "text/x-python",
   "name": "python",
   "nbconvert_exporter": "python",
   "pygments_lexer": "ipython3",
   "version": "3.9.7"
  }
 },
 "nbformat": 4,
 "nbformat_minor": 5
}
