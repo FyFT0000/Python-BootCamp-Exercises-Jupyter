{
 "cells": [
  {
   "cell_type": "code",
   "execution_count": 1,
   "id": "25e6d83e",
   "metadata": {},
   "outputs": [
    {
     "name": "stdout",
     "output_type": "stream",
     "text": [
      "this is a string INSERTED\n"
     ]
    }
   ],
   "source": [
    "print('this is a string {}'.format('INSERTED'))"
   ]
  },
  {
   "cell_type": "code",
   "execution_count": 2,
   "id": "9dd8772e",
   "metadata": {},
   "outputs": [
    {
     "name": "stdout",
     "output_type": "stream",
     "text": [
      "The fox brown quick\n"
     ]
    }
   ],
   "source": [
    "print('The {} {} {}'.format('fox','brown','quick'))"
   ]
  },
  {
   "cell_type": "code",
   "execution_count": 3,
   "id": "36ccc873",
   "metadata": {},
   "outputs": [
    {
     "name": "stdout",
     "output_type": "stream",
     "text": [
      "The quick brown fox\n"
     ]
    }
   ],
   "source": [
    "print('The {2} {1} {0}'.format('fox','brown','quick'))"
   ]
  },
  {
   "cell_type": "code",
   "execution_count": 4,
   "id": "24bf4508",
   "metadata": {},
   "outputs": [
    {
     "name": "stdout",
     "output_type": "stream",
     "text": [
      "The brown fox quick\n"
     ]
    }
   ],
   "source": [
    "print('The {g} {f} {h}'.format(f='fox',g='brown',h='quick'))"
   ]
  },
  {
   "cell_type": "code",
   "execution_count": 5,
   "id": "aa6b7d48",
   "metadata": {},
   "outputs": [],
   "source": [
    "result = 100/777"
   ]
  },
  {
   "cell_type": "code",
   "execution_count": 6,
   "id": "9278a9da",
   "metadata": {},
   "outputs": [
    {
     "data": {
      "text/plain": [
       "0.1287001287001287"
      ]
     },
     "execution_count": 6,
     "metadata": {},
     "output_type": "execute_result"
    }
   ],
   "source": [
    "result"
   ]
  },
  {
   "cell_type": "code",
   "execution_count": 10,
   "id": "f7eaa9b6",
   "metadata": {},
   "outputs": [
    {
     "name": "stdout",
     "output_type": "stream",
     "text": [
      "The result is: 0.129\n"
     ]
    }
   ],
   "source": [
    "print('The result is: {r:1.3f}'.format(r = result))"
   ]
  },
  {
   "cell_type": "code",
   "execution_count": null,
   "id": "0f3575a6",
   "metadata": {},
   "outputs": [],
   "source": []
  },
  {
   "cell_type": "code",
   "execution_count": 11,
   "id": "d2b303c4",
   "metadata": {},
   "outputs": [],
   "source": [
    "name = 'Facundo'"
   ]
  },
  {
   "cell_type": "code",
   "execution_count": 15,
   "id": "1a9a9906",
   "metadata": {},
   "outputs": [
    {
     "name": "stdout",
     "output_type": "stream",
     "text": [
      "Hello his name is: Facundo\n"
     ]
    }
   ],
   "source": [
    "print(f\"Hello his name is: {name}\")"
   ]
  },
  {
   "cell_type": "code",
   "execution_count": null,
   "id": "e77eb5cd",
   "metadata": {},
   "outputs": [],
   "source": []
  },
  {
   "cell_type": "code",
   "execution_count": 16,
   "id": "fbc50ea1",
   "metadata": {},
   "outputs": [],
   "source": [
    "name = 'Facundo'\n",
    "age = '37'"
   ]
  },
  {
   "cell_type": "code",
   "execution_count": 17,
   "id": "7e151c14",
   "metadata": {},
   "outputs": [
    {
     "name": "stdout",
     "output_type": "stream",
     "text": [
      "Facundo is 37 years old\n"
     ]
    }
   ],
   "source": [
    "print(f'{name} is {age} years old')"
   ]
  },
  {
   "cell_type": "code",
   "execution_count": null,
   "id": "cda5e5df",
   "metadata": {},
   "outputs": [],
   "source": []
  }
 ],
 "metadata": {
  "kernelspec": {
   "display_name": "Python 3 (ipykernel)",
   "language": "python",
   "name": "python3"
  },
  "language_info": {
   "codemirror_mode": {
    "name": "ipython",
    "version": 3
   },
   "file_extension": ".py",
   "mimetype": "text/x-python",
   "name": "python",
   "nbconvert_exporter": "python",
   "pygments_lexer": "ipython3",
   "version": "3.9.7"
  }
 },
 "nbformat": 4,
 "nbformat_minor": 5
}
