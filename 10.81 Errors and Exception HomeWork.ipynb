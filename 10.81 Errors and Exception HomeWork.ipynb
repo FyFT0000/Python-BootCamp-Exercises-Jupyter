{
 "cells": [
  {
   "cell_type": "code",
   "execution_count": 1,
   "id": "0ddfe056",
   "metadata": {},
   "outputs": [],
   "source": [
    "# Problem 1: Handle the exception thrown by the code below by using try and except blocks."
   ]
  },
  {
   "cell_type": "code",
   "execution_count": 3,
   "id": "0484ec16",
   "metadata": {},
   "outputs": [
    {
     "name": "stdout",
     "output_type": "stream",
     "text": [
      "Please provide a number for the operation\n"
     ]
    }
   ],
   "source": [
    "try:\n",
    "    for i in ['a','b','c']:\n",
    "        print(i**2)\n",
    "except TypeError:\n",
    "    print('Please provide a number for the operation')\n",
    "except:\n",
    "    print('There is a problem in the execution!')\n",
    "    "
   ]
  },
  {
   "cell_type": "code",
   "execution_count": 4,
   "id": "4ee6c79f",
   "metadata": {},
   "outputs": [],
   "source": [
    "# Problem 2: Handle the exception thrown by the code below by using try and except blocks. Then use a finally block to print 'All Done.'"
   ]
  },
  {
   "cell_type": "code",
   "execution_count": 6,
   "id": "9697eba4",
   "metadata": {},
   "outputs": [
    {
     "name": "stdout",
     "output_type": "stream",
     "text": [
      "Error you are trying to divide a number by cero\n",
      "All Done\n"
     ]
    }
   ],
   "source": [
    "x = 5\n",
    "y = 0\n",
    "try:\n",
    "    z = x/y\n",
    "except ZeroDivisionError:\n",
    "    print(\"Error you are trying to divide a number by cero\")\n",
    "except:\n",
    "    print('There is an Error!')\n",
    "finally:\n",
    "    print(\"All Done\")"
   ]
  },
  {
   "cell_type": "code",
   "execution_count": 7,
   "id": "ba3ce478",
   "metadata": {},
   "outputs": [],
   "source": [
    "#Problem 3: Write a function that asks for an integer and prints the square of it. Use a while loop with a try, except, else block to account for incorrect inputs."
   ]
  },
  {
   "cell_type": "code",
   "execution_count": 13,
   "id": "760ac579",
   "metadata": {},
   "outputs": [
    {
     "name": "stdout",
     "output_type": "stream",
     "text": [
      "Please provide a number to calculate the square: two\n",
      "The number is not a number, please input a number\n",
      "Please provide a number to calculate the square: tre\n",
      "The number is not a number, please input a number\n",
      "Please provide a number to calculate the square: $%\n",
      "The number is not a number, please input a number\n",
      "Please provide a number to calculate the square: 4\n",
      "16\n",
      "Great you have enter a number\n"
     ]
    }
   ],
   "source": [
    "def square_integer():\n",
    "    print(int(input('Please provide a number to calculate the square: '))**2)\n",
    "\n",
    "while True:\n",
    "    try:\n",
    "        square_integer()\n",
    "    except ValueError:\n",
    "        print('The number is not a number, please input a number')\n",
    "    except:\n",
    "        print(\"Some error has happend please enter egain the number\")\n",
    "    else:\n",
    "        print(\"Great you have enter a number\")\n",
    "        break"
   ]
  },
  {
   "cell_type": "code",
   "execution_count": null,
   "id": "3fc39797",
   "metadata": {},
   "outputs": [],
   "source": []
  }
 ],
 "metadata": {
  "kernelspec": {
   "display_name": "Python 3 (ipykernel)",
   "language": "python",
   "name": "python3"
  },
  "language_info": {
   "codemirror_mode": {
    "name": "ipython",
    "version": 3
   },
   "file_extension": ".py",
   "mimetype": "text/x-python",
   "name": "python",
   "nbconvert_exporter": "python",
   "pygments_lexer": "ipython3",
   "version": "3.9.7"
  }
 },
 "nbformat": 4,
 "nbformat_minor": 5
}
