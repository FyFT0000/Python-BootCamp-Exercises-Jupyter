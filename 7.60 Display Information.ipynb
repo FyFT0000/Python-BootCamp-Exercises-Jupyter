{
 "cells": [
  {
   "cell_type": "code",
   "execution_count": 1,
   "id": "1d9eb733",
   "metadata": {},
   "outputs": [
    {
     "name": "stdout",
     "output_type": "stream",
     "text": [
      "[1, 2, 3]\n"
     ]
    }
   ],
   "source": [
    "print([1,2,3])"
   ]
  },
  {
   "cell_type": "code",
   "execution_count": 10,
   "id": "7d28bcf6",
   "metadata": {},
   "outputs": [],
   "source": [
    "def display(*args):\n",
    "    for n in args:\n",
    "        print((n))"
   ]
  },
  {
   "cell_type": "code",
   "execution_count": 11,
   "id": "d4378fe4",
   "metadata": {},
   "outputs": [
    {
     "name": "stdout",
     "output_type": "stream",
     "text": [
      "[1, 2, 3]\n",
      "[4, 5, 6]\n",
      "7\n",
      "8\n",
      "9\n",
      "{'key': 1, 'key2': 2}\n"
     ]
    }
   ],
   "source": [
    "display([1,2,3],[4,5,6],7,8,9,{'key':1,'key2':2})"
   ]
  },
  {
   "cell_type": "code",
   "execution_count": 17,
   "id": "def0f0cb",
   "metadata": {},
   "outputs": [],
   "source": [
    "# Representation of a Tic Tac Toe game"
   ]
  },
  {
   "cell_type": "code",
   "execution_count": 18,
   "id": "c20b4929",
   "metadata": {},
   "outputs": [],
   "source": [
    "row1 = [' ',' ',' ']\n",
    "row2 = [' ',' ',' ']\n",
    "row3 = [' ',' ',' ']"
   ]
  },
  {
   "cell_type": "code",
   "execution_count": 19,
   "id": "06b227ed",
   "metadata": {},
   "outputs": [
    {
     "name": "stdout",
     "output_type": "stream",
     "text": [
      "[' ', ' ', ' ']\n",
      "[' ', ' ', ' ']\n",
      "[' ', ' ', ' ']\n"
     ]
    }
   ],
   "source": [
    "display(row1,row2,row3)"
   ]
  },
  {
   "cell_type": "code",
   "execution_count": 20,
   "id": "b4cb481d",
   "metadata": {},
   "outputs": [],
   "source": [
    "row2[1] = 'X'\n",
    "row3[2] = 'O'"
   ]
  },
  {
   "cell_type": "code",
   "execution_count": 21,
   "id": "287ea184",
   "metadata": {},
   "outputs": [
    {
     "name": "stdout",
     "output_type": "stream",
     "text": [
      "[' ', ' ', ' ']\n",
      "[' ', 'X', ' ']\n",
      "[' ', ' ', 'O']\n"
     ]
    }
   ],
   "source": [
    "display(row1,row2,row3)"
   ]
  },
  {
   "cell_type": "code",
   "execution_count": null,
   "id": "dd7972c5",
   "metadata": {},
   "outputs": [],
   "source": []
  }
 ],
 "metadata": {
  "kernelspec": {
   "display_name": "Python 3 (ipykernel)",
   "language": "python",
   "name": "python3"
  },
  "language_info": {
   "codemirror_mode": {
    "name": "ipython",
    "version": 3
   },
   "file_extension": ".py",
   "mimetype": "text/x-python",
   "name": "python",
   "nbconvert_exporter": "python",
   "pygments_lexer": "ipython3",
   "version": "3.9.7"
  }
 },
 "nbformat": 4,
 "nbformat_minor": 5
}
