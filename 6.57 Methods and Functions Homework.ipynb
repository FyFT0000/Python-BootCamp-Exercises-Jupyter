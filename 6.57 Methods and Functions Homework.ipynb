{
 "cells": [
  {
   "cell_type": "code",
   "execution_count": 1,
   "id": "4e003b5c",
   "metadata": {},
   "outputs": [],
   "source": [
    "# Write a function that computes the volume of a sphere given its radius."
   ]
  },
  {
   "cell_type": "code",
   "execution_count": 6,
   "id": "609733e6",
   "metadata": {},
   "outputs": [],
   "source": [
    "import math\n",
    "\n",
    "def vol(rad):\n",
    "    return (4/3)*math.pi*rad**3"
   ]
  },
  {
   "cell_type": "code",
   "execution_count": 7,
   "id": "f5b5a203",
   "metadata": {},
   "outputs": [
    {
     "data": {
      "text/plain": [
       "33.510321638291124"
      ]
     },
     "execution_count": 7,
     "metadata": {},
     "output_type": "execute_result"
    }
   ],
   "source": [
    "vol(2)"
   ]
  },
  {
   "cell_type": "code",
   "execution_count": 8,
   "id": "5babda7a",
   "metadata": {},
   "outputs": [],
   "source": [
    "# Write a function that checks whether a number is in a given range (inclusive of high and low)"
   ]
  },
  {
   "cell_type": "code",
   "execution_count": 9,
   "id": "63583236",
   "metadata": {},
   "outputs": [],
   "source": [
    "def num_rang(num,low,high):\n",
    "    return num >= low and num <= high\n",
    "    "
   ]
  },
  {
   "cell_type": "code",
   "execution_count": 12,
   "id": "c5682f79",
   "metadata": {},
   "outputs": [
    {
     "data": {
      "text/plain": [
       "True"
      ]
     },
     "execution_count": 12,
     "metadata": {},
     "output_type": "execute_result"
    }
   ],
   "source": [
    "num_rang(3,1,10)"
   ]
  },
  {
   "cell_type": "code",
   "execution_count": 13,
   "id": "138b61ed",
   "metadata": {},
   "outputs": [],
   "source": [
    "# Write a Python function that accepts a string and calculates the number of upper case letters and lower case letters."
   ]
  },
  {
   "cell_type": "code",
   "execution_count": 40,
   "id": "6979b2b7",
   "metadata": {},
   "outputs": [],
   "source": [
    "import string\n",
    "#abcd = list(string.ascii_letters)\n",
    "#def ascci(letter):\n",
    "#    return letter in abcd\n",
    "\n",
    "def upper_lower(string1):\n",
    "    upper = 0\n",
    "    lower = 0\n",
    "    for n in filter(lambda letter:letter in string.ascii_letters,string1):\n",
    "        if n.isupper():\n",
    "            upper += 1\n",
    "        else:\n",
    "            lower += 1\n",
    "    print(f'The number of upper case letter are: {upper}. \\nThe number of lower case letters are: {lower}')\n",
    "    "
   ]
  },
  {
   "cell_type": "code",
   "execution_count": 41,
   "id": "4ab0bbba",
   "metadata": {},
   "outputs": [
    {
     "name": "stdout",
     "output_type": "stream",
     "text": [
      "The number of upper case letter are: 6. \n",
      "The number of lower case letters are: 13\n"
     ]
    }
   ],
   "source": [
    "upper_lower('HolA esTa ES una Prueba ')"
   ]
  },
  {
   "cell_type": "code",
   "execution_count": 42,
   "id": "06f6a5c2",
   "metadata": {},
   "outputs": [],
   "source": [
    "#Write a Python function that takes a list and returns a new list with unique elements of the first list."
   ]
  },
  {
   "cell_type": "code",
   "execution_count": 45,
   "id": "235fc506",
   "metadata": {},
   "outputs": [],
   "source": [
    "def unique_list(list1):\n",
    "    unique = []\n",
    "    for n in list1:\n",
    "        if n not in unique:\n",
    "            unique.append(n)\n",
    "    return unique"
   ]
  },
  {
   "cell_type": "code",
   "execution_count": 47,
   "id": "d32284a5",
   "metadata": {},
   "outputs": [
    {
     "data": {
      "text/plain": [
       "[1, 2, 3, 4, 5, 6]"
      ]
     },
     "execution_count": 47,
     "metadata": {},
     "output_type": "execute_result"
    }
   ],
   "source": [
    "unique_list([1,1,1,1,2,2,3,3,3,3,4,5,1,1,1,3,6])"
   ]
  },
  {
   "cell_type": "code",
   "execution_count": 52,
   "id": "ebbbea8f",
   "metadata": {},
   "outputs": [],
   "source": [
    "def unique_list1(list2):\n",
    "    unique1 = []\n",
    "    for n in filter(lambda num:num not in unique1,list2):\n",
    "        unique1.append(n)\n",
    "    return unique1\n",
    "    "
   ]
  },
  {
   "cell_type": "code",
   "execution_count": 53,
   "id": "24cae3f5",
   "metadata": {},
   "outputs": [
    {
     "data": {
      "text/plain": [
       "[1, 2, 3, 4, 5, 6]"
      ]
     },
     "execution_count": 53,
     "metadata": {},
     "output_type": "execute_result"
    }
   ],
   "source": [
    "unique_list1([1,1,1,1,2,2,3,3,3,3,4,5,1,1,1,3,6])"
   ]
  },
  {
   "cell_type": "code",
   "execution_count": 54,
   "id": "d4d12746",
   "metadata": {},
   "outputs": [],
   "source": [
    "# Write a Python function to multiply all the numbers in a list."
   ]
  },
  {
   "cell_type": "code",
   "execution_count": 62,
   "id": "424a9f8e",
   "metadata": {},
   "outputs": [],
   "source": [
    "def multiply_list(list_mul):\n",
    "    mult = 1\n",
    "    for n in list_mul:\n",
    "        mult = mult * n\n",
    "    return mult"
   ]
  },
  {
   "cell_type": "code",
   "execution_count": 63,
   "id": "7bd72466",
   "metadata": {},
   "outputs": [
    {
     "data": {
      "text/plain": [
       "-24"
      ]
     },
     "execution_count": 63,
     "metadata": {},
     "output_type": "execute_result"
    }
   ],
   "source": [
    "multiply_list([1, 2, 3, -4])"
   ]
  },
  {
   "cell_type": "code",
   "execution_count": 64,
   "id": "818831cb",
   "metadata": {},
   "outputs": [],
   "source": [
    "# Write a Python function that checks whether a word or phrase is palindrome or not."
   ]
  },
  {
   "cell_type": "code",
   "execution_count": 166,
   "id": "18471958",
   "metadata": {},
   "outputs": [],
   "source": [
    "def palindrome(string1):\n",
    "    aux_string = string1.replace(' ','').lower()\n",
    "    if len(aux_string)%2 != 0:\n",
    "        if aux_string[slice(0,int(len(x)/2),1)] == aux_string[slice(-1,-int(len(x)/2)-1,-1)]:\n",
    "            return True\n",
    "    return False"
   ]
  },
  {
   "cell_type": "code",
   "execution_count": 173,
   "id": "776da9c8",
   "metadata": {},
   "outputs": [
    {
     "data": {
      "text/plain": [
       "True"
      ]
     },
     "execution_count": 173,
     "metadata": {},
     "output_type": "execute_result"
    }
   ],
   "source": [
    "palindrome('nurses run')"
   ]
  },
  {
   "cell_type": "code",
   "execution_count": 172,
   "id": "0a1b927f",
   "metadata": {},
   "outputs": [
    {
     "name": "stdout",
     "output_type": "stream",
     "text": [
      "9\n",
      "1\n",
      "1rac\n",
      "4\n",
      "2rac\n"
     ]
    }
   ],
   "source": [
    "x = '1racecar2'\n",
    "print(len(x))\n",
    "print(len(x)%2)\n",
    "print(x[slice(0,int(len(x)/2),1)])\n",
    "print(int(len(x)/2))\n",
    "print(x[slice(-1,-int(len(x)/2)-1,-1)])"
   ]
  },
  {
   "cell_type": "code",
   "execution_count": 190,
   "id": "3d32e132",
   "metadata": {},
   "outputs": [
    {
     "name": "stdout",
     "output_type": "stream",
     "text": [
      "9\n",
      "1\n",
      "1rac\n",
      "4\n",
      "2ra\n"
     ]
    }
   ],
   "source": [
    "x = '1racecar2'\n",
    "print(len(x))\n",
    "print(len(x)%2)\n",
    "print(x[0:int(len(x)/2):1])\n",
    "print(int(len(x)/2))\n",
    "print(x[:-int(len(x)/2):-1])"
   ]
  },
  {
   "cell_type": "code",
   "execution_count": 191,
   "id": "277680d3",
   "metadata": {},
   "outputs": [],
   "source": [
    "# Write a Python function to check whether a string is pangram or not. (Assume the string passed in does not have any punctuation)"
   ]
  },
  {
   "cell_type": "code",
   "execution_count": 213,
   "id": "58840cef",
   "metadata": {},
   "outputs": [],
   "source": [
    "import string\n",
    "def panagram(string1):\n",
    "    count = 0\n",
    "    for n in filter(lambda lett:lett.lower() in string1,string.ascii_lowercase):\n",
    "        count += 1\n",
    "    print(count)\n",
    "    return len(string.ascii_lowercase) == count\n",
    "    "
   ]
  },
  {
   "cell_type": "code",
   "execution_count": 214,
   "id": "9cd2f528",
   "metadata": {},
   "outputs": [
    {
     "name": "stdout",
     "output_type": "stream",
     "text": [
      "26\n"
     ]
    },
    {
     "data": {
      "text/plain": [
       "True"
      ]
     },
     "execution_count": 214,
     "metadata": {},
     "output_type": "execute_result"
    }
   ],
   "source": [
    "panagram(\"The quick brown fox jumps over the lazy dog\")"
   ]
  },
  {
   "cell_type": "code",
   "execution_count": 279,
   "id": "fa8afdd5",
   "metadata": {},
   "outputs": [],
   "source": [
    "import string\n",
    "def panagram1(string2):\n",
    "    return  set(string.ascii_lowercase).issubset(set(string2.lower().replace(' ','')))\n",
    "\n",
    "\n",
    "#    a = set(string2.lower().replace(' ',''))\n",
    "#    b = set(string.ascii_lowercase)\n",
    "#    return b.issubset(a)"
   ]
  },
  {
   "cell_type": "code",
   "execution_count": 280,
   "id": "efe06f19",
   "metadata": {},
   "outputs": [
    {
     "data": {
      "text/plain": [
       "True"
      ]
     },
     "execution_count": 280,
     "metadata": {},
     "output_type": "execute_result"
    }
   ],
   "source": [
    "panagram1(\"The quick brown fox jumps over the lazy dog\")"
   ]
  },
  {
   "cell_type": "code",
   "execution_count": null,
   "id": "e61ab408",
   "metadata": {},
   "outputs": [],
   "source": []
  }
 ],
 "metadata": {
  "kernelspec": {
   "display_name": "Python 3 (ipykernel)",
   "language": "python",
   "name": "python3"
  },
  "language_info": {
   "codemirror_mode": {
    "name": "ipython",
    "version": 3
   },
   "file_extension": ".py",
   "mimetype": "text/x-python",
   "name": "python",
   "nbconvert_exporter": "python",
   "pygments_lexer": "ipython3",
   "version": "3.9.7"
  }
 },
 "nbformat": 4,
 "nbformat_minor": 5
}
