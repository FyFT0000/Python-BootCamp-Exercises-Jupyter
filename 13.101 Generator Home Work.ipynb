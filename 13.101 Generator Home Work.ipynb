{
 "cells": [
  {
   "cell_type": "code",
   "execution_count": 1,
   "id": "cdf0401b",
   "metadata": {},
   "outputs": [],
   "source": [
    "#Problem 1: Create a generator that generates the squares of numbers up to some number N."
   ]
  },
  {
   "cell_type": "code",
   "execution_count": 93,
   "id": "77d46559",
   "metadata": {},
   "outputs": [],
   "source": [
    "def gen_sq(n):\n",
    "    for sq in range(n):\n",
    "        yield sq**2"
   ]
  },
  {
   "cell_type": "code",
   "execution_count": 94,
   "id": "bb9bec07",
   "metadata": {},
   "outputs": [
    {
     "data": {
      "text/plain": [
       "<generator object gen_sq at 0x0000022B4AC9FC10>"
      ]
     },
     "execution_count": 94,
     "metadata": {},
     "output_type": "execute_result"
    }
   ],
   "source": [
    "gen_sq(10)"
   ]
  },
  {
   "cell_type": "code",
   "execution_count": 95,
   "id": "7d9b720a",
   "metadata": {},
   "outputs": [
    {
     "name": "stdout",
     "output_type": "stream",
     "text": [
      "<generator object gen_sq at 0x0000022B4AC9FD60>\n"
     ]
    }
   ],
   "source": [
    "print(gen_sq(10))"
   ]
  },
  {
   "cell_type": "code",
   "execution_count": 103,
   "id": "28810cf9",
   "metadata": {},
   "outputs": [],
   "source": [
    "sq_up_10 = gen_sq(10)"
   ]
  },
  {
   "cell_type": "code",
   "execution_count": 97,
   "id": "955ea0b1",
   "metadata": {},
   "outputs": [
    {
     "data": {
      "text/plain": [
       "<generator object gen_sq at 0x0000022B4AC9FD60>"
      ]
     },
     "execution_count": 97,
     "metadata": {},
     "output_type": "execute_result"
    }
   ],
   "source": [
    "sq_up_10"
   ]
  },
  {
   "cell_type": "code",
   "execution_count": 98,
   "id": "7db82416",
   "metadata": {},
   "outputs": [
    {
     "name": "stdout",
     "output_type": "stream",
     "text": [
      "<generator object gen_sq at 0x0000022B4AC9FD60>\n"
     ]
    }
   ],
   "source": [
    "print(sq_up_10)"
   ]
  },
  {
   "cell_type": "code",
   "execution_count": 99,
   "id": "72ca42c6",
   "metadata": {},
   "outputs": [
    {
     "name": "stdout",
     "output_type": "stream",
     "text": [
      "0 1 4 9 16 25 36 49 64 81 "
     ]
    }
   ],
   "source": [
    "for n in gen_sq(10):\n",
    "    print(n, end=' ')"
   ]
  },
  {
   "cell_type": "code",
   "execution_count": 105,
   "id": "54f4b7ae",
   "metadata": {},
   "outputs": [],
   "source": [
    "for n in sq_up_10:\n",
    "    print(n, end=' ')"
   ]
  },
  {
   "cell_type": "code",
   "execution_count": 101,
   "id": "080d604e",
   "metadata": {},
   "outputs": [
    {
     "name": "stdout",
     "output_type": "stream",
     "text": [
      "0 1 4 9 16 25 36 49 64 81 "
     ]
    }
   ],
   "source": [
    "print(*gen_sq(10),end=' ')"
   ]
  },
  {
   "cell_type": "code",
   "execution_count": 104,
   "id": "873f917f",
   "metadata": {},
   "outputs": [
    {
     "name": "stdout",
     "output_type": "stream",
     "text": [
      "0 1 4 9 16 25 36 49 64 81 "
     ]
    }
   ],
   "source": [
    "print(*sq_up_10,end=' ')"
   ]
  },
  {
   "cell_type": "code",
   "execution_count": null,
   "id": "8c406b15",
   "metadata": {},
   "outputs": [],
   "source": []
  },
  {
   "cell_type": "code",
   "execution_count": null,
   "id": "fec314ce",
   "metadata": {},
   "outputs": [],
   "source": [
    "#Problem 2: Create a generator that yields \"n\" random numbers between a low and high number (that are inputs).\n",
    "#Note: Use the random library. For example:\n"
   ]
  },
  {
   "cell_type": "code",
   "execution_count": 201,
   "id": "bad52504",
   "metadata": {},
   "outputs": [],
   "source": [
    "import random\n",
    "def rand_in_range(number,low,hi):\n",
    "    for n in range(number):\n",
    "        yield random.randrange(low,hi)"
   ]
  },
  {
   "cell_type": "code",
   "execution_count": 202,
   "id": "01e3ad81",
   "metadata": {},
   "outputs": [
    {
     "name": "stdout",
     "output_type": "stream",
     "text": [
      "18 28 29 47 29 38 18 19 39 47 "
     ]
    }
   ],
   "source": [
    "for ran in rand_in_range(10,10,50):\n",
    "    print(ran, end=\" \")"
   ]
  },
  {
   "cell_type": "code",
   "execution_count": 203,
   "id": "a628953a",
   "metadata": {},
   "outputs": [
    {
     "name": "stdout",
     "output_type": "stream",
     "text": [
      "  0   4 218 226 198 145  29 156  61  49  62  94 \n",
      "179 164   1 157  90 109  94 154  21  55 223  25 "
     ]
    }
   ],
   "source": [
    "import secrets\n",
    "ra = 12\n",
    "for n in range(ra):\n",
    "    print(f'{secrets.randbelow(256):3}',end=' ')\n",
    "print('')\n",
    "for n in range(ra):\n",
    "    print(f'{secrets.randbits(8):3}',end=' ')"
   ]
  },
  {
   "cell_type": "code",
   "execution_count": null,
   "id": "94f3c00c",
   "metadata": {},
   "outputs": [],
   "source": [
    "# Problem 3: Use the iter() function to convert the string below into an iterator:"
   ]
  },
  {
   "cell_type": "code",
   "execution_count": 218,
   "id": "3d6e253a",
   "metadata": {},
   "outputs": [],
   "source": [
    "s = 'hello'"
   ]
  },
  {
   "cell_type": "code",
   "execution_count": 219,
   "id": "46a5d786",
   "metadata": {},
   "outputs": [
    {
     "name": "stdout",
     "output_type": "stream",
     "text": [
      "h e l l o "
     ]
    }
   ],
   "source": [
    "for ch in iter(s):\n",
    "    print(ch, end=\" \")"
   ]
  },
  {
   "cell_type": "code",
   "execution_count": 220,
   "id": "998b3aa0",
   "metadata": {},
   "outputs": [
    {
     "name": "stdout",
     "output_type": "stream",
     "text": [
      "h e l l o "
     ]
    }
   ],
   "source": [
    "for ch in s:\n",
    "    print(ch, end=\" \")"
   ]
  },
  {
   "cell_type": "code",
   "execution_count": 221,
   "id": "a8d38ea6",
   "metadata": {},
   "outputs": [
    {
     "data": {
      "text/plain": [
       "'h'"
      ]
     },
     "execution_count": 221,
     "metadata": {},
     "output_type": "execute_result"
    }
   ],
   "source": [
    "next(iter(s))"
   ]
  },
  {
   "cell_type": "code",
   "execution_count": 222,
   "id": "e954a9c6",
   "metadata": {},
   "outputs": [
    {
     "ename": "TypeError",
     "evalue": "'str' object is not an iterator",
     "output_type": "error",
     "traceback": [
      "\u001b[1;31m---------------------------------------------------------------------------\u001b[0m",
      "\u001b[1;31mTypeError\u001b[0m                                 Traceback (most recent call last)",
      "\u001b[1;32mC:\\Users\\FACUND~1\\AppData\\Local\\Temp/ipykernel_17204/1977886155.py\u001b[0m in \u001b[0;36m<module>\u001b[1;34m\u001b[0m\n\u001b[1;32m----> 1\u001b[1;33m \u001b[0mnext\u001b[0m\u001b[1;33m(\u001b[0m\u001b[0ms\u001b[0m\u001b[1;33m)\u001b[0m\u001b[1;33m\u001b[0m\u001b[1;33m\u001b[0m\u001b[0m\n\u001b[0m",
      "\u001b[1;31mTypeError\u001b[0m: 'str' object is not an iterator"
     ]
    }
   ],
   "source": [
    "next(s)"
   ]
  },
  {
   "cell_type": "code",
   "execution_count": null,
   "id": "10b9c32e",
   "metadata": {},
   "outputs": [],
   "source": [
    "#Problem 4: Explain a use case for a generator using a yield statement where you would not want to use a normal function with a return statement."
   ]
  },
  {
   "cell_type": "code",
   "execution_count": 223,
   "id": "12a20a58",
   "metadata": {},
   "outputs": [],
   "source": [
    "#The clear case is the use of range(start,end) function, since\n",
    "# we don't want to store all te numbers in the range, just use one each time"
   ]
  },
  {
   "cell_type": "code",
   "execution_count": null,
   "id": "a2904e45",
   "metadata": {},
   "outputs": [],
   "source": [
    "# Can you explain what gencomp is in the code below? (Note: We never covered this in lecture! You will have to do some Googling/Stack Overflowing!)"
   ]
  },
  {
   "cell_type": "code",
   "execution_count": 243,
   "id": "1d2dea20",
   "metadata": {},
   "outputs": [
    {
     "name": "stdout",
     "output_type": "stream",
     "text": [
      "4 5 5 4\n",
      "4\n",
      "5\n",
      "5\n",
      "4\n",
      "--------\n",
      "8\n",
      "10\n",
      "10\n",
      "8\n"
     ]
    }
   ],
   "source": [
    "my_list = [1,2,3,4,5,5,4,3,2,1]\n",
    "\n",
    "gencomp = (item for item in my_list if item > 3)\n",
    "print(*gencomp)\n",
    "gencomp = (item for item in my_list if item > 3)\n",
    "for item in gencomp:\n",
    "    print(item)\n",
    "print('--------')\n",
    "gencomp = (item*2 for item in my_list if item > 3)\n",
    "for item in gencomp:\n",
    "    print(item)"
   ]
  },
  {
   "cell_type": "code",
   "execution_count": 230,
   "id": "1c1b8819",
   "metadata": {},
   "outputs": [
    {
     "name": "stdout",
     "output_type": "stream",
     "text": [
      "4\n",
      "5\n",
      "5\n",
      "4\n"
     ]
    }
   ],
   "source": [
    "my_list1 = [1,2,3,4,5,5,4,3,2,1]\n",
    "\n",
    "def gencomp1(my_list1):\n",
    "    for item in my_list1:\n",
    "        if item > 3:\n",
    "            yield item\n",
    "            \n",
    "for item in gencomp1(my_list1):\n",
    "    print(item)"
   ]
  },
  {
   "cell_type": "code",
   "execution_count": 253,
   "id": "6bfc5e8b",
   "metadata": {},
   "outputs": [
    {
     "name": "stdout",
     "output_type": "stream",
     "text": [
      "['li', 'li', 'oi']\n"
     ]
    }
   ],
   "source": [
    "list2 = [letter+'i' for letter in 'hello' if letter > 'h']\n",
    "print(list2)"
   ]
  },
  {
   "cell_type": "code",
   "execution_count": null,
   "id": "4b13dfc2",
   "metadata": {},
   "outputs": [],
   "source": []
  },
  {
   "cell_type": "code",
   "execution_count": null,
   "id": "dabbcf26",
   "metadata": {},
   "outputs": [],
   "source": []
  },
  {
   "cell_type": "code",
   "execution_count": null,
   "id": "86e2e1da",
   "metadata": {},
   "outputs": [],
   "source": []
  },
  {
   "cell_type": "code",
   "execution_count": null,
   "id": "238be711",
   "metadata": {},
   "outputs": [],
   "source": []
  }
 ],
 "metadata": {
  "kernelspec": {
   "display_name": "Python 3 (ipykernel)",
   "language": "python",
   "name": "python3"
  },
  "language_info": {
   "codemirror_mode": {
    "name": "ipython",
    "version": 3
   },
   "file_extension": ".py",
   "mimetype": "text/x-python",
   "name": "python",
   "nbconvert_exporter": "python",
   "pygments_lexer": "ipython3",
   "version": "3.9.7"
  }
 },
 "nbformat": 4,
 "nbformat_minor": 5
}
