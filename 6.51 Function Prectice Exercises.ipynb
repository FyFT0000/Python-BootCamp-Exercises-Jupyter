{
 "cells": [
  {
   "cell_type": "code",
   "execution_count": 1,
   "id": "da68397f",
   "metadata": {},
   "outputs": [],
   "source": [
    "def lesser_of_two_evens(a,b):\n",
    "    if (a%2 == 0 and b%2 == 0):\n",
    "        if a < b:\n",
    "            return a\n",
    "        else:\n",
    "            return b\n",
    "    else:\n",
    "        if a > b:\n",
    "            return a\n",
    "        else:\n",
    "            return b"
   ]
  },
  {
   "cell_type": "code",
   "execution_count": 2,
   "id": "0ab2dc06",
   "metadata": {},
   "outputs": [
    {
     "data": {
      "text/plain": [
       "2"
      ]
     },
     "execution_count": 2,
     "metadata": {},
     "output_type": "execute_result"
    }
   ],
   "source": [
    "lesser_of_two_evens(2,4)"
   ]
  },
  {
   "cell_type": "code",
   "execution_count": 3,
   "id": "500286fe",
   "metadata": {},
   "outputs": [
    {
     "data": {
      "text/plain": [
       "5"
      ]
     },
     "execution_count": 3,
     "metadata": {},
     "output_type": "execute_result"
    }
   ],
   "source": [
    "lesser_of_two_evens(2,5)"
   ]
  },
  {
   "cell_type": "code",
   "execution_count": null,
   "id": "bb1e3330",
   "metadata": {},
   "outputs": [],
   "source": []
  },
  {
   "cell_type": "code",
   "execution_count": 19,
   "id": "7a6a04dd",
   "metadata": {},
   "outputs": [],
   "source": [
    "def animal_crackers(text_string):\n",
    "    print(text_string)\n",
    "    i = 0\n",
    "    size_text = len(text_string)\n",
    "    print(size_text)\n",
    "    while i < size_text:\n",
    "        if (text_string[i] == ' ' and text_string[0] == text_string[i+1]):\n",
    "            return True\n",
    "        i += 1\n",
    "  #      print(i)\n",
    "    return False"
   ]
  },
  {
   "cell_type": "code",
   "execution_count": 22,
   "id": "874ff9b4",
   "metadata": {},
   "outputs": [
    {
     "name": "stdout",
     "output_type": "stream",
     "text": [
      "Levelheaded Llama\n",
      "17\n"
     ]
    },
    {
     "data": {
      "text/plain": [
       "True"
      ]
     },
     "execution_count": 22,
     "metadata": {},
     "output_type": "execute_result"
    }
   ],
   "source": [
    "animal_crackers('Levelheaded Llama')"
   ]
  },
  {
   "cell_type": "code",
   "execution_count": 23,
   "id": "4121f3fe",
   "metadata": {},
   "outputs": [
    {
     "name": "stdout",
     "output_type": "stream",
     "text": [
      "Crazy Kangaroo\n",
      "14\n"
     ]
    },
    {
     "data": {
      "text/plain": [
       "False"
      ]
     },
     "execution_count": 23,
     "metadata": {},
     "output_type": "execute_result"
    }
   ],
   "source": [
    "animal_crackers('Crazy Kangaroo')"
   ]
  },
  {
   "cell_type": "code",
   "execution_count": null,
   "id": "37072158",
   "metadata": {},
   "outputs": [],
   "source": []
  },
  {
   "cell_type": "code",
   "execution_count": 24,
   "id": "498fe8d9",
   "metadata": {},
   "outputs": [],
   "source": [
    "def makes_tewnty(n1,n2):\n",
    "    if n1 + n2 == 20 or n1 == 20 or n2 == 20:\n",
    "        return True\n",
    "    else:\n",
    "        return False\n",
    "    "
   ]
  },
  {
   "cell_type": "code",
   "execution_count": 25,
   "id": "d6dfb304",
   "metadata": {},
   "outputs": [
    {
     "data": {
      "text/plain": [
       "True"
      ]
     },
     "execution_count": 25,
     "metadata": {},
     "output_type": "execute_result"
    }
   ],
   "source": [
    "makes_tewnty(12,8)"
   ]
  },
  {
   "cell_type": "code",
   "execution_count": 26,
   "id": "364bc63f",
   "metadata": {},
   "outputs": [
    {
     "data": {
      "text/plain": [
       "False"
      ]
     },
     "execution_count": 26,
     "metadata": {},
     "output_type": "execute_result"
    }
   ],
   "source": [
    "makes_tewnty(2,3)"
   ]
  },
  {
   "cell_type": "code",
   "execution_count": 27,
   "id": "0613a165",
   "metadata": {},
   "outputs": [
    {
     "data": {
      "text/plain": [
       "True"
      ]
     },
     "execution_count": 27,
     "metadata": {},
     "output_type": "execute_result"
    }
   ],
   "source": [
    "makes_tewnty(20,10)"
   ]
  },
  {
   "cell_type": "code",
   "execution_count": 74,
   "id": "0335bc41",
   "metadata": {},
   "outputs": [],
   "source": [
    "# OLD MACDONALD: Write a function that capitalizes the first and fourth letters of a name"
   ]
  },
  {
   "cell_type": "code",
   "execution_count": 75,
   "id": "3028230c",
   "metadata": {},
   "outputs": [],
   "source": [
    "def old_macdonald(name):\n",
    "    return '{:.3}'.format(name).capitalize() + name[3:].capitalize()\n",
    "#name.capitalize()"
   ]
  },
  {
   "cell_type": "code",
   "execution_count": 76,
   "id": "77110f46",
   "metadata": {},
   "outputs": [
    {
     "data": {
      "text/plain": [
       "'MacDonald'"
      ]
     },
     "execution_count": 76,
     "metadata": {},
     "output_type": "execute_result"
    }
   ],
   "source": [
    "old_macdonald('macdonald')"
   ]
  },
  {
   "cell_type": "code",
   "execution_count": 77,
   "id": "da01254e",
   "metadata": {},
   "outputs": [],
   "source": [
    "# MASTER YODA: Given a sentence, return a sentence with the words reversed"
   ]
  },
  {
   "cell_type": "code",
   "execution_count": 209,
   "id": "4e03a6ab",
   "metadata": {},
   "outputs": [],
   "source": [
    "def master_yoda(text_string):\n",
    "    length = len(text_string)\n",
    "    print(length)\n",
    "    i = length - 1\n",
    "    rev_string = ''\n",
    "    aux_string = ''\n",
    "    while i >= 0:\n",
    "        if text_string[i] != ' ':\n",
    "            aux_string = aux_string + text_string[i]\n",
    "  #      print (aux_string)\n",
    "        if text_string[i] == ' ' or i == 0:\n",
    "            #aux_string = aux_string + ' '\n",
    "            rev_string = rev_string + aux_string[::-1] + ' '\n",
    "            aux_string = ''\n",
    "        i -= 1\n",
    "    return rev_string\n",
    "    "
   ]
  },
  {
   "cell_type": "code",
   "execution_count": 210,
   "id": "8600c8e0",
   "metadata": {},
   "outputs": [
    {
     "name": "stdout",
     "output_type": "stream",
     "text": [
      "12\n"
     ]
    },
    {
     "data": {
      "text/plain": [
       "'ready are We '"
      ]
     },
     "execution_count": 210,
     "metadata": {},
     "output_type": "execute_result"
    }
   ],
   "source": [
    "master_yoda('We are ready')"
   ]
  },
  {
   "cell_type": "code",
   "execution_count": 207,
   "id": "eda88e4a",
   "metadata": {},
   "outputs": [],
   "source": [
    "def master_yoda2(text_string2):\n",
    "    aux_list = []\n",
    "    aux_string = ''\n",
    "    for n in text_string2:\n",
    "        if n != ' ':\n",
    "            aux_string = aux_string + n\n",
    "        else:\n",
    "            aux_list.append(aux_string)\n",
    "            aux_string = ''\n",
    "    if aux_string != '':\n",
    "        aux_list.append(aux_string)\n",
    "    aux_list.reverse()\n",
    "     \n",
    "    return ' '.join(aux_list)\n",
    "    "
   ]
  },
  {
   "cell_type": "code",
   "execution_count": 208,
   "id": "e12e7d90",
   "metadata": {},
   "outputs": [
    {
     "data": {
      "text/plain": [
       "'ready are We'"
      ]
     },
     "execution_count": 208,
     "metadata": {},
     "output_type": "execute_result"
    }
   ],
   "source": [
    "master_yoda2('We are ready')"
   ]
  },
  {
   "cell_type": "code",
   "execution_count": 211,
   "id": "e1e1dac2",
   "metadata": {},
   "outputs": [],
   "source": [
    "# ALMOST THERE: Given an integer n, return True if n is within 10 of either 100 or 200"
   ]
  },
  {
   "cell_type": "code",
   "execution_count": 212,
   "id": "b12ee583",
   "metadata": {},
   "outputs": [],
   "source": [
    "def almost_there(number):\n",
    "    if number > 89 and number < 111:\n",
    "        return True\n",
    "    if number > 189 and number < 211:\n",
    "        return True\n",
    "    return False"
   ]
  },
  {
   "cell_type": "code",
   "execution_count": 217,
   "id": "a1d118d4",
   "metadata": {},
   "outputs": [
    {
     "data": {
      "text/plain": [
       "False"
      ]
     },
     "execution_count": 217,
     "metadata": {},
     "output_type": "execute_result"
    }
   ],
   "source": [
    "almost_there(250)"
   ]
  },
  {
   "cell_type": "code",
   "execution_count": null,
   "id": "3a2617fb",
   "metadata": {},
   "outputs": [],
   "source": []
  }
 ],
 "metadata": {
  "kernelspec": {
   "display_name": "Python 3 (ipykernel)",
   "language": "python",
   "name": "python3"
  },
  "language_info": {
   "codemirror_mode": {
    "name": "ipython",
    "version": 3
   },
   "file_extension": ".py",
   "mimetype": "text/x-python",
   "name": "python",
   "nbconvert_exporter": "python",
   "pygments_lexer": "ipython3",
   "version": "3.9.7"
  }
 },
 "nbformat": 4,
 "nbformat_minor": 5
}
